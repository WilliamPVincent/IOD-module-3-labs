{
 "cells": [
  {
   "cell_type": "markdown",
   "metadata": {
    "id": "fneIB8BIGtiY"
   },
   "source": [
    "<div>\n",
    "<img src=https://www.institutedata.com/wp-content/uploads/2019/10/iod_h_tp_primary_c.svg width=\"300\">\n",
    "</div>"
   ]
  },
  {
   "cell_type": "markdown",
   "metadata": {
    "id": "rdipUchUGtih"
   },
   "source": [
    "# Lab 3.2.1\n",
    "# *Querying the International Space Station*"
   ]
  },
  {
   "cell_type": "markdown",
   "metadata": {
    "id": "b2RLpeJNGtil"
   },
   "source": [
    "## The OpenNotify API"
   ]
  },
  {
   "cell_type": "markdown",
   "metadata": {
    "id": "rrunXmMNGtip"
   },
   "source": [
    "The OpenNotify API exposes a few attributes of the International Space Station (ISS) via a simple, authentication-free interface. The simplicity of this API precludes any need for a dedicated Python library. However, as with many APIs, it accepts requests according to HTTP standards and returns responses in JSON format, so the Python libraries request and json will make managing the I/O simpler still."
   ]
  },
  {
   "cell_type": "code",
   "execution_count": 1,
   "metadata": {
    "id": "xz4PaIIjGtis"
   },
   "outputs": [],
   "source": [
    "import requests\n",
    "import json\n",
    "from datetime import datetime, date, time"
   ]
  },
  {
   "cell_type": "markdown",
   "metadata": {
    "id": "tE2vsQo3Gti0"
   },
   "source": [
    "This request fetches the latest position of the international space station:"
   ]
  },
  {
   "cell_type": "code",
   "execution_count": 2,
   "metadata": {
    "id": "bXBJ6YSPGti3"
   },
   "outputs": [],
   "source": [
    "response = requests.get(\"http://api.open-notify.org/iss-now.json\")"
   ]
  },
  {
   "cell_type": "markdown",
   "metadata": {
    "id": "wTbnWjPGGti-"
   },
   "source": [
    "Print the status code and text of the response:"
   ]
  },
  {
   "cell_type": "code",
   "execution_count": 4,
   "metadata": {
    "colab": {
     "base_uri": "https://localhost:8080/"
    },
    "executionInfo": {
     "elapsed": 349,
     "status": "ok",
     "timestamp": 1656486719496,
     "user": {
      "displayName": "Muru Raj",
      "userId": "16263509272652930332"
     },
     "user_tz": -480
    },
    "id": "_I6hU3-AGtjA",
    "outputId": "063d1285-3a8f-409a-aed5-76511912fb1c"
   },
   "outputs": [
    {
     "data": {
      "text/plain": [
       "200"
      ]
     },
     "execution_count": 4,
     "metadata": {},
     "output_type": "execute_result"
    }
   ],
   "source": [
    "#ANSWER\n",
    "response.status_code"
   ]
  },
  {
   "cell_type": "code",
   "execution_count": 5,
   "metadata": {
    "colab": {
     "base_uri": "https://localhost:8080/"
    },
    "executionInfo": {
     "elapsed": 324,
     "status": "ok",
     "timestamp": 1656486759324,
     "user": {
      "displayName": "Muru Raj",
      "userId": "16263509272652930332"
     },
     "user_tz": -480
    },
    "id": "-WdeRA2iTYNy",
    "outputId": "ce58f787-ddf2-41e3-fa25-169380a569f6"
   },
   "outputs": [
    {
     "data": {
      "text/plain": [
       "'{\"iss_position\": {\"latitude\": \"0.6000\", \"longitude\": \"-107.3632\"}, \"message\": \"success\", \"timestamp\": 1720744729}'"
      ]
     },
     "execution_count": 5,
     "metadata": {},
     "output_type": "execute_result"
    }
   ],
   "source": [
    "#ANSWER\n",
    "response.text"
   ]
  },
  {
   "cell_type": "markdown",
   "metadata": {
    "id": "eiziNer-GtjF"
   },
   "source": [
    "We can use another API to request the current position of the ISS and the next few times at which it will be over a certain location. The latitude and longitude of Sydney are (-33.87, 151.21)."
   ]
  },
  {
   "cell_type": "code",
   "execution_count": 34,
   "metadata": {
    "id": "2XZ-ygFkGtjH"
   },
   "outputs": [],
   "source": [
    "response = requests.get(\"https://api.g7vrd.co.uk/v1/satellite-passes/25544/-33.87/151.21.json?minelevation=0&hours=24\")"
   ]
  },
  {
   "cell_type": "markdown",
   "metadata": {
    "id": "aEl3pwmHGtjN"
   },
   "source": [
    "Print the response header:"
   ]
  },
  {
   "cell_type": "code",
   "execution_count": 7,
   "metadata": {
    "id": "6rsz7gwbGtjP"
   },
   "outputs": [
    {
     "data": {
      "text/plain": [
       "{'Date': 'Fri, 12 Jul 2024 00:45:28 GMT', 'Server': 'Apache', 'Vary': 'Origin,Access-Control-Request-Method,Access-Control-Request-Headers', 'Access-Control-Allow-Origin': '*', 'X-Content-Type-Options': 'nosniff', 'X-XSS-Protection': '0', 'Cache-Control': 'no-cache, no-store, max-age=0, must-revalidate', 'Pragma': 'no-cache', 'Expires': '0', 'X-Frame-Options': 'DENY', 'Content-Type': 'application/json', 'Keep-Alive': 'timeout=5, max=100', 'Connection': 'Keep-Alive', 'Transfer-Encoding': 'chunked'}"
      ]
     },
     "execution_count": 7,
     "metadata": {},
     "output_type": "execute_result"
    }
   ],
   "source": [
    "#ANSWER\n",
    "response.headers"
   ]
  },
  {
   "cell_type": "markdown",
   "metadata": {
    "id": "W6tqlzySGtjR"
   },
   "source": [
    "Print the content of the response (the data that the server returned):"
   ]
  },
  {
   "cell_type": "code",
   "execution_count": 8,
   "metadata": {
    "id": "HbxepzDZGtjS"
   },
   "outputs": [
    {
     "data": {
      "text/plain": [
       "b'{\"api_status\":\"ALPHA\",\"request_timestamp\":\"2024-07-12T00:45:28.432429023Z\",\"norad_id\":25544,\"satellite_name\":\"ISS\",\"tle_last_retrieved\":\"2024-07-11T10:06:09.045762639Z\",\"lat\":-33.87,\"lon\":151.21,\"hours\":24,\"min_elevation\":0,\"query_ms\":14,\"passes\":[{\"start\":\"2024-07-12T01:46:48.418Z\",\"tca\":\"2024-07-12T01:49:48.418Z\",\"end\":\"2024-07-12T01:52:53.418Z\",\"aos_azimuth\":207,\"los_azimuth\":140,\"max_elevation\":3.0},{\"start\":\"2024-07-12T03:23:28.418Z\",\"tca\":\"2024-07-12T03:27:58.418Z\",\"end\":\"2024-07-12T03:32:43.418Z\",\"aos_azimuth\":210,\"los_azimuth\":96,\"max_elevation\":11.0},{\"start\":\"2024-07-12T04:59:48.418Z\",\"tca\":\"2024-07-12T05:05:18.418Z\",\"end\":\"2024-07-12T05:10:53.418Z\",\"aos_azimuth\":225,\"los_azimuth\":48,\"max_elevation\":78.0},{\"start\":\"2024-07-12T06:37:38.418Z\",\"tca\":\"2024-07-12T06:41:38.418Z\",\"end\":\"2024-07-12T06:45:33.418Z\",\"aos_azimuth\":257,\"los_azimuth\":350,\"max_elevation\":7.0},{\"start\":\"2024-07-12T20:03:48.418Z\",\"tca\":\"2024-07-12T20:08:48.418Z\",\"end\":\"2024-07-12T20:13:38.418Z\",\"aos_azimuth\":349,\"los_azimuth\":116,\"max_elevation\":17.0},{\"start\":\"2024-07-12T21:39:48.418Z\",\"tca\":\"2024-07-12T21:45:18.418Z\",\"end\":\"2024-07-12T21:50:38.418Z\",\"aos_azimuth\":296,\"los_azimuth\":140,\"max_elevation\":36.0},{\"start\":\"2024-07-12T23:18:43.418Z\",\"tca\":\"2024-07-12T23:22:43.418Z\",\"end\":\"2024-07-12T23:26:53.418Z\",\"aos_azimuth\":247,\"los_azimuth\":152,\"max_elevation\":8.0},{\"start\":\"2024-07-13T00:58:18.418Z\",\"tca\":\"2024-07-13T01:01:18.418Z\",\"end\":\"2024-07-13T01:04:08.418Z\",\"aos_azimuth\":211,\"los_azimuth\":147,\"max_elevation\":3.0}]}'"
      ]
     },
     "execution_count": 8,
     "metadata": {},
     "output_type": "execute_result"
    }
   ],
   "source": [
    "#ANSWER\n",
    "response.content"
   ]
  },
  {
   "cell_type": "markdown",
   "metadata": {
    "id": "N7tHPQzDGtjU"
   },
   "source": [
    "Note that this is a Python byte string:"
   ]
  },
  {
   "cell_type": "code",
   "execution_count": 9,
   "metadata": {
    "id": "k8AMo0yWGtjV"
   },
   "outputs": [
    {
     "name": "stdout",
     "output_type": "stream",
     "text": [
      "<class 'bytes'>\n"
     ]
    }
   ],
   "source": [
    "print(type(response.content))"
   ]
  },
  {
   "cell_type": "markdown",
   "metadata": {
    "id": "5tvv9ht_GtjX"
   },
   "source": [
    "Print just the \"content-type\" value from the header:"
   ]
  },
  {
   "cell_type": "code",
   "execution_count": 12,
   "metadata": {
    "id": "nxWxxLI7GtjX"
   },
   "outputs": [
    {
     "data": {
      "text/plain": [
       "'application/json'"
      ]
     },
     "execution_count": 12,
     "metadata": {},
     "output_type": "execute_result"
    }
   ],
   "source": [
    "#ANSWER\n",
    "response.headers['content-type']"
   ]
  },
  {
   "cell_type": "markdown",
   "metadata": {
    "id": "7lPlgn_hGtjZ"
   },
   "source": [
    "JSON was designed to be easy for computers to read, not for people. The `requests` library can decode the JSON byte string:"
   ]
  },
  {
   "cell_type": "code",
   "execution_count": 11,
   "metadata": {
    "id": "nGVtgDaqGtja"
   },
   "outputs": [
    {
     "name": "stdout",
     "output_type": "stream",
     "text": [
      "{'api_status': 'ALPHA', 'request_timestamp': '2024-07-12T00:45:28.432429023Z', 'norad_id': 25544, 'satellite_name': 'ISS', 'tle_last_retrieved': '2024-07-11T10:06:09.045762639Z', 'lat': -33.87, 'lon': 151.21, 'hours': 24, 'min_elevation': 0, 'query_ms': 14, 'passes': [{'start': '2024-07-12T01:46:48.418Z', 'tca': '2024-07-12T01:49:48.418Z', 'end': '2024-07-12T01:52:53.418Z', 'aos_azimuth': 207, 'los_azimuth': 140, 'max_elevation': 3.0}, {'start': '2024-07-12T03:23:28.418Z', 'tca': '2024-07-12T03:27:58.418Z', 'end': '2024-07-12T03:32:43.418Z', 'aos_azimuth': 210, 'los_azimuth': 96, 'max_elevation': 11.0}, {'start': '2024-07-12T04:59:48.418Z', 'tca': '2024-07-12T05:05:18.418Z', 'end': '2024-07-12T05:10:53.418Z', 'aos_azimuth': 225, 'los_azimuth': 48, 'max_elevation': 78.0}, {'start': '2024-07-12T06:37:38.418Z', 'tca': '2024-07-12T06:41:38.418Z', 'end': '2024-07-12T06:45:33.418Z', 'aos_azimuth': 257, 'los_azimuth': 350, 'max_elevation': 7.0}, {'start': '2024-07-12T20:03:48.418Z', 'tca': '2024-07-12T20:08:48.418Z', 'end': '2024-07-12T20:13:38.418Z', 'aos_azimuth': 349, 'los_azimuth': 116, 'max_elevation': 17.0}, {'start': '2024-07-12T21:39:48.418Z', 'tca': '2024-07-12T21:45:18.418Z', 'end': '2024-07-12T21:50:38.418Z', 'aos_azimuth': 296, 'los_azimuth': 140, 'max_elevation': 36.0}, {'start': '2024-07-12T23:18:43.418Z', 'tca': '2024-07-12T23:22:43.418Z', 'end': '2024-07-12T23:26:53.418Z', 'aos_azimuth': 247, 'los_azimuth': 152, 'max_elevation': 8.0}, {'start': '2024-07-13T00:58:18.418Z', 'tca': '2024-07-13T01:01:18.418Z', 'end': '2024-07-13T01:04:08.418Z', 'aos_azimuth': 211, 'los_azimuth': 147, 'max_elevation': 3.0}]}\n"
     ]
    }
   ],
   "source": [
    "overheads = response.json()\n",
    "print(overheads)"
   ]
  },
  {
   "cell_type": "markdown",
   "metadata": {
    "id": "l9GOdNK5Gtjc"
   },
   "source": [
    "What kind of object did this give us?"
   ]
  },
  {
   "cell_type": "code",
   "execution_count": 14,
   "metadata": {
    "id": "JBS4nRmSGtjd"
   },
   "outputs": [
    {
     "data": {
      "text/plain": [
       "dict"
      ]
     },
     "execution_count": 14,
     "metadata": {},
     "output_type": "execute_result"
    }
   ],
   "source": [
    "#ANSWER:\n",
    "type(overheads)"
   ]
  },
  {
   "cell_type": "markdown",
   "metadata": {
    "id": "2ZYJabXQGtjg"
   },
   "source": [
    "Python dicts are easier to work with, but the data we want is still buried in that data structure, so we have to dig it out. First, extract the `passes` value to a separate list:"
   ]
  },
  {
   "cell_type": "code",
   "execution_count": 17,
   "metadata": {
    "id": "0u8LZg4dGtjh"
   },
   "outputs": [
    {
     "data": {
      "text/plain": [
       "[{'start': '2024-07-12T01:46:48.418Z',\n",
       "  'tca': '2024-07-12T01:49:48.418Z',\n",
       "  'end': '2024-07-12T01:52:53.418Z',\n",
       "  'aos_azimuth': 207,\n",
       "  'los_azimuth': 140,\n",
       "  'max_elevation': 3.0},\n",
       " {'start': '2024-07-12T03:23:28.418Z',\n",
       "  'tca': '2024-07-12T03:27:58.418Z',\n",
       "  'end': '2024-07-12T03:32:43.418Z',\n",
       "  'aos_azimuth': 210,\n",
       "  'los_azimuth': 96,\n",
       "  'max_elevation': 11.0},\n",
       " {'start': '2024-07-12T04:59:48.418Z',\n",
       "  'tca': '2024-07-12T05:05:18.418Z',\n",
       "  'end': '2024-07-12T05:10:53.418Z',\n",
       "  'aos_azimuth': 225,\n",
       "  'los_azimuth': 48,\n",
       "  'max_elevation': 78.0},\n",
       " {'start': '2024-07-12T06:37:38.418Z',\n",
       "  'tca': '2024-07-12T06:41:38.418Z',\n",
       "  'end': '2024-07-12T06:45:33.418Z',\n",
       "  'aos_azimuth': 257,\n",
       "  'los_azimuth': 350,\n",
       "  'max_elevation': 7.0},\n",
       " {'start': '2024-07-12T20:03:48.418Z',\n",
       "  'tca': '2024-07-12T20:08:48.418Z',\n",
       "  'end': '2024-07-12T20:13:38.418Z',\n",
       "  'aos_azimuth': 349,\n",
       "  'los_azimuth': 116,\n",
       "  'max_elevation': 17.0},\n",
       " {'start': '2024-07-12T21:39:48.418Z',\n",
       "  'tca': '2024-07-12T21:45:18.418Z',\n",
       "  'end': '2024-07-12T21:50:38.418Z',\n",
       "  'aos_azimuth': 296,\n",
       "  'los_azimuth': 140,\n",
       "  'max_elevation': 36.0},\n",
       " {'start': '2024-07-12T23:18:43.418Z',\n",
       "  'tca': '2024-07-12T23:22:43.418Z',\n",
       "  'end': '2024-07-12T23:26:53.418Z',\n",
       "  'aos_azimuth': 247,\n",
       "  'los_azimuth': 152,\n",
       "  'max_elevation': 8.0},\n",
       " {'start': '2024-07-13T00:58:18.418Z',\n",
       "  'tca': '2024-07-13T01:01:18.418Z',\n",
       "  'end': '2024-07-13T01:04:08.418Z',\n",
       "  'aos_azimuth': 211,\n",
       "  'los_azimuth': 147,\n",
       "  'max_elevation': 3.0}]"
      ]
     },
     "execution_count": 17,
     "metadata": {},
     "output_type": "execute_result"
    }
   ],
   "source": [
    "#ANSWER:\n",
    "passes=overheads['passes']\n",
    "passes"
   ]
  },
  {
   "cell_type": "markdown",
   "metadata": {
    "id": "hMHzLrfoGtjj"
   },
   "source": [
    "Now extract the `start` strings into an array called `srisetimes`:"
   ]
  },
  {
   "cell_type": "code",
   "execution_count": 20,
   "metadata": {
    "id": "nXqJ8_F2Gtjj"
   },
   "outputs": [
    {
     "data": {
      "text/plain": [
       "['2024-07-12T01:46:48.418Z',\n",
       " '2024-07-12T03:23:28.418Z',\n",
       " '2024-07-12T04:59:48.418Z',\n",
       " '2024-07-12T06:37:38.418Z',\n",
       " '2024-07-12T20:03:48.418Z',\n",
       " '2024-07-12T21:39:48.418Z',\n",
       " '2024-07-12T23:18:43.418Z',\n",
       " '2024-07-13T00:58:18.418Z']"
      ]
     },
     "execution_count": 20,
     "metadata": {},
     "output_type": "execute_result"
    }
   ],
   "source": [
    "#ANSWER:\n",
    "srisetimes= [xpass['start'] for xpass in passes]\n",
    "srisetimes"
   ]
  },
  {
   "cell_type": "markdown",
   "metadata": {
    "id": "RItuBRt-Gtjl"
   },
   "source": [
    "These are strings. We convert these to an array of Python `datetime` values called `risetimes`:"
   ]
  },
  {
   "cell_type": "code",
   "execution_count": 21,
   "metadata": {
    "id": "8rzyAcLTGtjm"
   },
   "outputs": [
    {
     "data": {
      "text/plain": [
       "[datetime.datetime(2024, 7, 12, 1, 46, 48, 418000),\n",
       " datetime.datetime(2024, 7, 12, 3, 23, 28, 418000),\n",
       " datetime.datetime(2024, 7, 12, 4, 59, 48, 418000),\n",
       " datetime.datetime(2024, 7, 12, 6, 37, 38, 418000),\n",
       " datetime.datetime(2024, 7, 12, 20, 3, 48, 418000),\n",
       " datetime.datetime(2024, 7, 12, 21, 39, 48, 418000),\n",
       " datetime.datetime(2024, 7, 12, 23, 18, 43, 418000),\n",
       " datetime.datetime(2024, 7, 13, 0, 58, 18, 418000)]"
      ]
     },
     "execution_count": 21,
     "metadata": {},
     "output_type": "execute_result"
    }
   ],
   "source": [
    "risetimes = [datetime.strptime(xpass['start'], \"%Y-%m-%dT%H:%M:%S.%fZ\") for xpass in passes]\n",
    "risetimes"
   ]
  },
  {
   "cell_type": "markdown",
   "metadata": {
    "id": "l1EmKOFqGtjn"
   },
   "source": [
    "Finally, use `risetime.strftime` to print these in a format that people understand:\n",
    "\n",
    "```\n",
    "e.g.\n",
    "18/10/22 07:05\n",
    "18/10/22 08:41\n",
    "18/10/22 10:20\n",
    "18/10/22 12:00\n",
    "18/10/22 01:37\n",
    "18/10/22 03:13\n",
    "```\n",
    "\n"
   ]
  },
  {
   "cell_type": "code",
   "execution_count": 29,
   "metadata": {
    "id": "AkBE76VqGtjo"
   },
   "outputs": [
    {
     "name": "stdout",
     "output_type": "stream",
     "text": [
      "12/07/24 01:46\n",
      "12/07/24 03:23\n",
      "12/07/24 04:59\n",
      "12/07/24 06:37\n",
      "12/07/24 20:03\n",
      "12/07/24 21:39\n",
      "12/07/24 23:18\n",
      "13/07/24 00:58\n"
     ]
    }
   ],
   "source": [
    "#ANSWER:\n",
    "for times in risetimes:\n",
    "    print(datetime.strftime(times,'%d/%m/%y %H:%M'))\n"
   ]
  },
  {
   "cell_type": "markdown",
   "metadata": {
    "id": "iNm6GjX3Gtjq"
   },
   "source": [
    "Finally, here is an endpoint that tells us who is on board:"
   ]
  },
  {
   "cell_type": "code",
   "execution_count": 35,
   "metadata": {
    "id": "12yXs_OgGtjs"
   },
   "outputs": [],
   "source": [
    "response = requests.get(\"http://api.open-notify.org/astros.json\")"
   ]
  },
  {
   "cell_type": "markdown",
   "metadata": {
    "id": "0Np4S0aAGtj0"
   },
   "source": [
    "Referring to the methods used above, extract the number of astronauts and their names:"
   ]
  },
  {
   "cell_type": "code",
   "execution_count": 39,
   "metadata": {
    "id": "Oqx5L19_Gtj1"
   },
   "outputs": [
    {
     "name": "stdout",
     "output_type": "stream",
     "text": [
      "Number of Astronauts:  12\n",
      "Oleg Kononenko\n",
      "Nikolai Chub\n",
      "Tracy Caldwell Dyson\n",
      "Matthew Dominick\n",
      "Michael Barratt\n",
      "Jeanette Epps\n",
      "Alexander Grebenkin\n",
      "Butch Wilmore\n",
      "Sunita Williams\n",
      "Li Guangsu\n",
      "Li Cong\n",
      "Ye Guangfu\n"
     ]
    }
   ],
   "source": [
    "#ANSWER:\n",
    "astronauts= response.json()\n",
    "print(\"Number of Astronauts: \",astronauts['number']) \n",
    "for astro in astronauts['people']:\n",
    "        print(astro[\"name\"])"
   ]
  },
  {
   "cell_type": "markdown",
   "metadata": {
    "id": "A4-DBw_bGtj2"
   },
   "source": [
    "## HOMEWORK\n"
   ]
  },
  {
   "cell_type": "markdown",
   "metadata": {
    "id": "c134mC6WGtj3"
   },
   "source": [
    "1. Write a simple handler for the response status code (refer to lab resources slide for HTTP response codes). As this Jupyter Notebook is an interactive device, the handler does not need to manage subsequent code execution (i.e. by branching or aborting execution), although it should return something that could be used to do so if deployed in a Python program."
   ]
  },
  {
   "cell_type": "code",
   "execution_count": 42,
   "metadata": {
    "id": "FZM2NAWuGtj4"
   },
   "outputs": [],
   "source": [
    "#ANSWER:\n",
    "def handleResponse(response, verbose = False):\n",
    "    if response.status_code == 200:\n",
    "        return False, response.status_code\n",
    "    else:\n",
    "        return True, response.status_code\n",
    "    '''\n",
    "    Returns Boolean Value, Status Code,\n",
    "    '''\n",
    "  # if Status Code is 200 return false, and status code\n",
    "  # Otherwise Return True and Status Code"
   ]
  },
  {
   "cell_type": "markdown",
   "metadata": {
    "id": "9aPstlTIGtj5"
   },
   "source": [
    "2. Test your response handler on some correct and incorrect API calls."
   ]
  },
  {
   "cell_type": "code",
   "execution_count": 43,
   "metadata": {
    "id": "GYT1LAb8Gtj6"
   },
   "outputs": [
    {
     "data": {
      "text/plain": [
       "False"
      ]
     },
     "execution_count": 43,
     "metadata": {},
     "output_type": "execute_result"
    }
   ],
   "source": [
    "response = requests.get(\"http://api.open-notify.org/astros.json\")\n",
    "if handleResponse(response)[0]:\n",
    "    print('API call failed. Resolve issue before continuing!')\n",
    "\n",
    "response = requests.get(\"http://api.open-notify.org/iss-now.json\")\n",
    "handleResponse(response, True)[0]"
   ]
  },
  {
   "cell_type": "markdown",
   "metadata": {
    "id": "k0AWq0rIIPza"
   },
   "source": [
    ">"
   ]
  },
  {
   "cell_type": "markdown",
   "metadata": {
    "id": "561tVw5LITP8"
   },
   "source": [
    ">"
   ]
  },
  {
   "cell_type": "markdown",
   "metadata": {
    "id": "H8Z7AkhTIUi3"
   },
   "source": [
    ">"
   ]
  },
  {
   "cell_type": "markdown",
   "metadata": {
    "id": "2lHXfE7KIHQp"
   },
   "source": [
    "\n",
    "\n",
    "---\n",
    "\n",
    "\n",
    "\n",
    "---\n",
    "\n",
    "\n",
    "\n",
    "> > > > > > > > > © 2024 Institute of Data\n",
    "\n",
    "\n",
    "---\n",
    "\n",
    "\n",
    "\n",
    "---\n",
    "\n",
    "\n",
    "\n"
   ]
  }
 ],
 "metadata": {
  "colab": {
   "provenance": [
    {
     "file_id": "1RknypYS3TD4wPumGiPV69EWtkq-3UBwF",
     "timestamp": 1553136072736
    }
   ]
  },
  "kernelspec": {
   "display_name": "Python 3 (ipykernel)",
   "language": "python",
   "name": "python3"
  },
  "language_info": {
   "codemirror_mode": {
    "name": "ipython",
    "version": 3
   },
   "file_extension": ".py",
   "mimetype": "text/x-python",
   "name": "python",
   "nbconvert_exporter": "python",
   "pygments_lexer": "ipython3",
   "version": "3.11.7"
  }
 },
 "nbformat": 4,
 "nbformat_minor": 1
}
