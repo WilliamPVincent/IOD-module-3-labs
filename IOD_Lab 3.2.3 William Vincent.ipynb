{
 "cells": [
  {
   "cell_type": "markdown",
   "metadata": {
    "id": "QaGbHIhQLFYq"
   },
   "source": [
    "<div>\n",
    "<img src=https://www.institutedata.com/wp-content/uploads/2019/10/iod_h_tp_primary_c.svg width=\"300\">\n",
    "</div>"
   ]
  },
  {
   "cell_type": "markdown",
   "metadata": {
    "id": "sMx6dqz7LFYv"
   },
   "source": [
    "# Lab 3.2.3\n",
    "# *The Google BigQuery UI and API*"
   ]
  },
  {
   "cell_type": "markdown",
   "metadata": {
    "id": "SKGiPVSwLFYx"
   },
   "source": [
    "## Introduction"
   ]
  },
  {
   "cell_type": "markdown",
   "metadata": {
    "id": "aKMV45iQLFY2"
   },
   "source": [
    "The Google BigQuery UI provides access to Google's extensive collection of public data sets via an SQL-based query engine.\n",
    "\n",
    "The BigQuery API provides programmatic access to the data sets.\n",
    "\n",
    "We can use the UI to discover interesting data before writing Python code to access it. Then we can reproduce it in an API request so as to aggregate large amounts of data on Google's infrastructure before pulling the results into our application."
   ]
  },
  {
   "cell_type": "markdown",
   "metadata": {
    "id": "q3JonnfULFY6"
   },
   "source": [
    "## BigQuery Web UI\n",
    "\n",
    "Work through the Quickstart at https://cloud.google.com/bigquery/docs/quickstarts/quickstart-web-ui.\n",
    "\n",
    "You will need to set up a Google Cloud Platform account if you don't already have one. (This should not cost anything during the trial period unless you perform a large amount of querying. Afterwards, costs are based on actual resource usage, but most offerings have a free tier.)"
   ]
  },
  {
   "cell_type": "markdown",
   "metadata": {
    "id": "QM5QOIBpLFY9"
   },
   "source": [
    "## BigQuery API\n",
    "\n",
    "You should already have the Google Cloud Client Library for Python installed (https://cloud.google.com/python/setup).\n",
    "\n",
    "- Open Google Cloud Console (https://console.cloud.google.com/home/) and select to create a project.\n",
    "\n",
    "- Under \"Getting Started\", select \"Enable APIs and get credentials such as keys\"."
   ]
  },
  {
   "cell_type": "markdown",
   "metadata": {
    "id": "0Ni9g5D7LFY_"
   },
   "source": [
    "- In the API table, make sure the BigQuery API is enabled. Page back."
   ]
  },
  {
   "cell_type": "markdown",
   "metadata": {
    "id": "FYjui9nrLFZC"
   },
   "source": [
    "### Authentication\n",
    "\n",
    "Go to https://cloud.google.com/iam/docs/creating-managing-service-account-keys and follow the instructions under \"Create a service account key\" to create a service account."
   ]
  },
  {
   "cell_type": "markdown",
   "metadata": {
    "id": "OYryTo8SLFZE"
   },
   "source": [
    "- Fill out the form, giving the account an appropriate name, and choose \"Project Owner\" for Account Type.\n",
    "\n",
    "- Click \"Create\"."
   ]
  },
  {
   "cell_type": "markdown",
   "metadata": {
    "id": "lUx6uvpALFZF"
   },
   "source": [
    "- The keys will get saved to your computer.\n",
    "\n",
    "- Note the location and copy the file path (of the json file) to somewhere safe, for future reference."
   ]
  },
  {
   "cell_type": "markdown",
   "metadata": {
    "id": "DnYr6eJ-LFZH"
   },
   "source": [
    "- See here for more information:\n",
    "\n",
    "https://cloud.google.com/iam/docs/understanding-service-accounts?&_ga=2.173177830.-495703703.1532572448#managing_service_account_keys"
   ]
  },
  {
   "cell_type": "markdown",
   "metadata": {
    "id": "5pvHgwVcLFZJ"
   },
   "source": [
    "### Using the Python API\n",
    "\n",
    "Google provides Python libraries for wrapping the Google APIs.\n",
    "\n",
    "__(Installing the \"google-cloud-storage\" and \"google-cloud-bigquery\" libraries should cover all the dependencies for this lab.)__"
   ]
  },
  {
   "cell_type": "code",
   "execution_count": 1,
   "metadata": {
    "id": "-CFdsY-N6zeO"
   },
   "outputs": [
    {
     "name": "stdout",
     "output_type": "stream",
     "text": [
      "Collecting google-cloud-storage\n",
      "  Downloading google_cloud_storage-2.17.0-py2.py3-none-any.whl.metadata (6.6 kB)\n",
      "Collecting google-auth<3.0dev,>=2.26.1 (from google-cloud-storage)\n",
      "  Downloading google_auth-2.32.0-py2.py3-none-any.whl.metadata (4.7 kB)\n",
      "Collecting google-api-core<3.0.0dev,>=2.15.0 (from google-cloud-storage)\n",
      "  Downloading google_api_core-2.19.1-py3-none-any.whl.metadata (2.7 kB)\n",
      "Collecting google-cloud-core<3.0dev,>=2.3.0 (from google-cloud-storage)\n",
      "  Downloading google_cloud_core-2.4.1-py2.py3-none-any.whl.metadata (2.7 kB)\n",
      "Collecting google-resumable-media>=2.6.0 (from google-cloud-storage)\n",
      "  Downloading google_resumable_media-2.7.1-py2.py3-none-any.whl.metadata (2.2 kB)\n",
      "Requirement already satisfied: requests<3.0.0dev,>=2.18.0 in c:\\users\\willv\\anaconda3\\lib\\site-packages (from google-cloud-storage) (2.31.0)\n",
      "Collecting google-crc32c<2.0dev,>=1.0 (from google-cloud-storage)\n",
      "  Downloading google_crc32c-1.5.0-cp311-cp311-win_amd64.whl.metadata (2.3 kB)\n",
      "Collecting googleapis-common-protos<2.0.dev0,>=1.56.2 (from google-api-core<3.0.0dev,>=2.15.0->google-cloud-storage)\n",
      "  Downloading googleapis_common_protos-1.63.2-py2.py3-none-any.whl.metadata (1.5 kB)\n",
      "Requirement already satisfied: protobuf!=3.20.0,!=3.20.1,!=4.21.0,!=4.21.1,!=4.21.2,!=4.21.3,!=4.21.4,!=4.21.5,<6.0.0.dev0,>=3.19.5 in c:\\users\\willv\\anaconda3\\lib\\site-packages (from google-api-core<3.0.0dev,>=2.15.0->google-cloud-storage) (3.20.3)\n",
      "Collecting proto-plus<2.0.0dev,>=1.22.3 (from google-api-core<3.0.0dev,>=2.15.0->google-cloud-storage)\n",
      "  Downloading proto_plus-1.24.0-py3-none-any.whl.metadata (2.2 kB)\n",
      "Requirement already satisfied: cachetools<6.0,>=2.0.0 in c:\\users\\willv\\anaconda3\\lib\\site-packages (from google-auth<3.0dev,>=2.26.1->google-cloud-storage) (4.2.2)\n",
      "Requirement already satisfied: pyasn1-modules>=0.2.1 in c:\\users\\willv\\anaconda3\\lib\\site-packages (from google-auth<3.0dev,>=2.26.1->google-cloud-storage) (0.2.8)\n",
      "Collecting rsa<5,>=3.1.4 (from google-auth<3.0dev,>=2.26.1->google-cloud-storage)\n",
      "  Downloading rsa-4.9-py3-none-any.whl.metadata (4.2 kB)\n",
      "Requirement already satisfied: charset-normalizer<4,>=2 in c:\\users\\willv\\anaconda3\\lib\\site-packages (from requests<3.0.0dev,>=2.18.0->google-cloud-storage) (2.0.4)\n",
      "Requirement already satisfied: idna<4,>=2.5 in c:\\users\\willv\\anaconda3\\lib\\site-packages (from requests<3.0.0dev,>=2.18.0->google-cloud-storage) (3.4)\n",
      "Requirement already satisfied: urllib3<3,>=1.21.1 in c:\\users\\willv\\anaconda3\\lib\\site-packages (from requests<3.0.0dev,>=2.18.0->google-cloud-storage) (2.0.7)\n",
      "Requirement already satisfied: certifi>=2017.4.17 in c:\\users\\willv\\anaconda3\\lib\\site-packages (from requests<3.0.0dev,>=2.18.0->google-cloud-storage) (2024.7.4)\n",
      "Requirement already satisfied: pyasn1<0.5.0,>=0.4.6 in c:\\users\\willv\\anaconda3\\lib\\site-packages (from pyasn1-modules>=0.2.1->google-auth<3.0dev,>=2.26.1->google-cloud-storage) (0.4.8)\n",
      "Downloading google_cloud_storage-2.17.0-py2.py3-none-any.whl (126 kB)\n",
      "   ---------------------------------------- 0.0/126.5 kB ? eta -:--:--\n",
      "   ----------------------------------- ---- 112.6/126.5 kB 3.3 MB/s eta 0:00:01\n",
      "   ---------------------------------------- 126.5/126.5 kB 3.8 MB/s eta 0:00:00\n",
      "Downloading google_api_core-2.19.1-py3-none-any.whl (139 kB)\n",
      "   ---------------------------------------- 0.0/139.4 kB ? eta -:--:--\n",
      "   ---------------------------------------- 139.4/139.4 kB 4.2 MB/s eta 0:00:00\n",
      "Downloading google_auth-2.32.0-py2.py3-none-any.whl (195 kB)\n",
      "   ---------------------------------------- 0.0/195.5 kB ? eta -:--:--\n",
      "   --------------------------------------- 195.5/195.5 kB 12.4 MB/s eta 0:00:00\n",
      "Downloading google_cloud_core-2.4.1-py2.py3-none-any.whl (29 kB)\n",
      "Downloading google_crc32c-1.5.0-cp311-cp311-win_amd64.whl (27 kB)\n",
      "Downloading google_resumable_media-2.7.1-py2.py3-none-any.whl (81 kB)\n",
      "   ---------------------------------------- 0.0/81.2 kB ? eta -:--:--\n",
      "   ---------------------------------------- 81.2/81.2 kB 4.4 MB/s eta 0:00:00\n",
      "Downloading googleapis_common_protos-1.63.2-py2.py3-none-any.whl (220 kB)\n",
      "   ---------------------------------------- 0.0/220.0 kB ? eta -:--:--\n",
      "   --------------------------------------- 220.0/220.0 kB 14.0 MB/s eta 0:00:00\n",
      "Downloading proto_plus-1.24.0-py3-none-any.whl (50 kB)\n",
      "   ---------------------------------------- 0.0/50.1 kB ? eta -:--:--\n",
      "   ---------------------------------------- 50.1/50.1 kB ? eta 0:00:00\n",
      "Downloading rsa-4.9-py3-none-any.whl (34 kB)\n",
      "Installing collected packages: rsa, proto-plus, googleapis-common-protos, google-crc32c, google-resumable-media, google-auth, google-api-core, google-cloud-core, google-cloud-storage\n",
      "Successfully installed google-api-core-2.19.1 google-auth-2.32.0 google-cloud-core-2.4.1 google-cloud-storage-2.17.0 google-crc32c-1.5.0 google-resumable-media-2.7.1 googleapis-common-protos-1.63.2 proto-plus-1.24.0 rsa-4.9\n"
     ]
    }
   ],
   "source": [
    "!pip install google-cloud-storage"
   ]
  },
  {
   "cell_type": "code",
   "execution_count": 2,
   "metadata": {
    "id": "Exi8RHoh65Ic"
   },
   "outputs": [
    {
     "name": "stdout",
     "output_type": "stream",
     "text": [
      "Collecting google-cloud-bigquery\n",
      "  Downloading google_cloud_bigquery-3.25.0-py2.py3-none-any.whl.metadata (8.9 kB)\n",
      "Requirement already satisfied: google-api-core!=2.0.*,!=2.1.*,!=2.10.*,!=2.2.*,!=2.3.*,!=2.4.*,!=2.5.*,!=2.6.*,!=2.7.*,!=2.8.*,!=2.9.*,<3.0.0dev,>=1.34.1 in c:\\users\\willv\\anaconda3\\lib\\site-packages (from google-api-core[grpc]!=2.0.*,!=2.1.*,!=2.10.*,!=2.2.*,!=2.3.*,!=2.4.*,!=2.5.*,!=2.6.*,!=2.7.*,!=2.8.*,!=2.9.*,<3.0.0dev,>=1.34.1->google-cloud-bigquery) (2.19.1)\n",
      "Requirement already satisfied: google-auth<3.0.0dev,>=2.14.1 in c:\\users\\willv\\anaconda3\\lib\\site-packages (from google-cloud-bigquery) (2.32.0)\n",
      "Requirement already satisfied: google-cloud-core<3.0.0dev,>=1.6.0 in c:\\users\\willv\\anaconda3\\lib\\site-packages (from google-cloud-bigquery) (2.4.1)\n",
      "Requirement already satisfied: google-resumable-media<3.0dev,>=0.6.0 in c:\\users\\willv\\anaconda3\\lib\\site-packages (from google-cloud-bigquery) (2.7.1)\n",
      "Requirement already satisfied: packaging>=20.0.0 in c:\\users\\willv\\anaconda3\\lib\\site-packages (from google-cloud-bigquery) (23.1)\n",
      "Requirement already satisfied: python-dateutil<3.0dev,>=2.7.2 in c:\\users\\willv\\anaconda3\\lib\\site-packages (from google-cloud-bigquery) (2.8.2)\n",
      "Requirement already satisfied: requests<3.0.0dev,>=2.21.0 in c:\\users\\willv\\anaconda3\\lib\\site-packages (from google-cloud-bigquery) (2.31.0)\n",
      "Requirement already satisfied: googleapis-common-protos<2.0.dev0,>=1.56.2 in c:\\users\\willv\\anaconda3\\lib\\site-packages (from google-api-core!=2.0.*,!=2.1.*,!=2.10.*,!=2.2.*,!=2.3.*,!=2.4.*,!=2.5.*,!=2.6.*,!=2.7.*,!=2.8.*,!=2.9.*,<3.0.0dev,>=1.34.1->google-api-core[grpc]!=2.0.*,!=2.1.*,!=2.10.*,!=2.2.*,!=2.3.*,!=2.4.*,!=2.5.*,!=2.6.*,!=2.7.*,!=2.8.*,!=2.9.*,<3.0.0dev,>=1.34.1->google-cloud-bigquery) (1.63.2)\n",
      "Requirement already satisfied: protobuf!=3.20.0,!=3.20.1,!=4.21.0,!=4.21.1,!=4.21.2,!=4.21.3,!=4.21.4,!=4.21.5,<6.0.0.dev0,>=3.19.5 in c:\\users\\willv\\anaconda3\\lib\\site-packages (from google-api-core!=2.0.*,!=2.1.*,!=2.10.*,!=2.2.*,!=2.3.*,!=2.4.*,!=2.5.*,!=2.6.*,!=2.7.*,!=2.8.*,!=2.9.*,<3.0.0dev,>=1.34.1->google-api-core[grpc]!=2.0.*,!=2.1.*,!=2.10.*,!=2.2.*,!=2.3.*,!=2.4.*,!=2.5.*,!=2.6.*,!=2.7.*,!=2.8.*,!=2.9.*,<3.0.0dev,>=1.34.1->google-cloud-bigquery) (3.20.3)\n",
      "Requirement already satisfied: proto-plus<2.0.0dev,>=1.22.3 in c:\\users\\willv\\anaconda3\\lib\\site-packages (from google-api-core!=2.0.*,!=2.1.*,!=2.10.*,!=2.2.*,!=2.3.*,!=2.4.*,!=2.5.*,!=2.6.*,!=2.7.*,!=2.8.*,!=2.9.*,<3.0.0dev,>=1.34.1->google-api-core[grpc]!=2.0.*,!=2.1.*,!=2.10.*,!=2.2.*,!=2.3.*,!=2.4.*,!=2.5.*,!=2.6.*,!=2.7.*,!=2.8.*,!=2.9.*,<3.0.0dev,>=1.34.1->google-cloud-bigquery) (1.24.0)\n",
      "Collecting grpcio<2.0dev,>=1.33.2 (from google-api-core[grpc]!=2.0.*,!=2.1.*,!=2.10.*,!=2.2.*,!=2.3.*,!=2.4.*,!=2.5.*,!=2.6.*,!=2.7.*,!=2.8.*,!=2.9.*,<3.0.0dev,>=1.34.1->google-cloud-bigquery)\n",
      "  Downloading grpcio-1.64.1-cp311-cp311-win_amd64.whl.metadata (3.4 kB)\n",
      "Collecting grpcio-status<2.0.dev0,>=1.33.2 (from google-api-core[grpc]!=2.0.*,!=2.1.*,!=2.10.*,!=2.2.*,!=2.3.*,!=2.4.*,!=2.5.*,!=2.6.*,!=2.7.*,!=2.8.*,!=2.9.*,<3.0.0dev,>=1.34.1->google-cloud-bigquery)\n",
      "  Downloading grpcio_status-1.64.1-py3-none-any.whl.metadata (1.1 kB)\n",
      "Requirement already satisfied: cachetools<6.0,>=2.0.0 in c:\\users\\willv\\anaconda3\\lib\\site-packages (from google-auth<3.0.0dev,>=2.14.1->google-cloud-bigquery) (4.2.2)\n",
      "Requirement already satisfied: pyasn1-modules>=0.2.1 in c:\\users\\willv\\anaconda3\\lib\\site-packages (from google-auth<3.0.0dev,>=2.14.1->google-cloud-bigquery) (0.2.8)\n",
      "Requirement already satisfied: rsa<5,>=3.1.4 in c:\\users\\willv\\anaconda3\\lib\\site-packages (from google-auth<3.0.0dev,>=2.14.1->google-cloud-bigquery) (4.9)\n",
      "Requirement already satisfied: google-crc32c<2.0dev,>=1.0 in c:\\users\\willv\\anaconda3\\lib\\site-packages (from google-resumable-media<3.0dev,>=0.6.0->google-cloud-bigquery) (1.5.0)\n",
      "Requirement already satisfied: six>=1.5 in c:\\users\\willv\\anaconda3\\lib\\site-packages (from python-dateutil<3.0dev,>=2.7.2->google-cloud-bigquery) (1.16.0)\n",
      "Requirement already satisfied: charset-normalizer<4,>=2 in c:\\users\\willv\\anaconda3\\lib\\site-packages (from requests<3.0.0dev,>=2.21.0->google-cloud-bigquery) (2.0.4)\n",
      "Requirement already satisfied: idna<4,>=2.5 in c:\\users\\willv\\anaconda3\\lib\\site-packages (from requests<3.0.0dev,>=2.21.0->google-cloud-bigquery) (3.4)\n",
      "Requirement already satisfied: urllib3<3,>=1.21.1 in c:\\users\\willv\\anaconda3\\lib\\site-packages (from requests<3.0.0dev,>=2.21.0->google-cloud-bigquery) (2.0.7)\n",
      "Requirement already satisfied: certifi>=2017.4.17 in c:\\users\\willv\\anaconda3\\lib\\site-packages (from requests<3.0.0dev,>=2.21.0->google-cloud-bigquery) (2024.7.4)\n",
      "Collecting protobuf!=3.20.0,!=3.20.1,!=4.21.0,!=4.21.1,!=4.21.2,!=4.21.3,!=4.21.4,!=4.21.5,<6.0.0.dev0,>=3.19.5 (from google-api-core!=2.0.*,!=2.1.*,!=2.10.*,!=2.2.*,!=2.3.*,!=2.4.*,!=2.5.*,!=2.6.*,!=2.7.*,!=2.8.*,!=2.9.*,<3.0.0dev,>=1.34.1->google-api-core[grpc]!=2.0.*,!=2.1.*,!=2.10.*,!=2.2.*,!=2.3.*,!=2.4.*,!=2.5.*,!=2.6.*,!=2.7.*,!=2.8.*,!=2.9.*,<3.0.0dev,>=1.34.1->google-cloud-bigquery)\n",
      "  Downloading protobuf-5.27.2-cp310-abi3-win_amd64.whl.metadata (592 bytes)\n",
      "Requirement already satisfied: pyasn1<0.5.0,>=0.4.6 in c:\\users\\willv\\anaconda3\\lib\\site-packages (from pyasn1-modules>=0.2.1->google-auth<3.0.0dev,>=2.14.1->google-cloud-bigquery) (0.4.8)\n",
      "Downloading google_cloud_bigquery-3.25.0-py2.py3-none-any.whl (239 kB)\n",
      "   ---------------------------------------- 0.0/239.0 kB ? eta -:--:--\n",
      "   ------ -------------------------------- 41.0/239.0 kB 991.0 kB/s eta 0:00:01\n",
      "   ---------------------------------------- 239.0/239.0 kB 2.9 MB/s eta 0:00:00\n",
      "Downloading grpcio-1.64.1-cp311-cp311-win_amd64.whl (4.1 MB)\n",
      "   ---------------------------------------- 0.0/4.1 MB ? eta -:--:--\n",
      "   --- ------------------------------------ 0.4/4.1 MB 12.2 MB/s eta 0:00:01\n",
      "   ----- ---------------------------------- 0.6/4.1 MB 7.5 MB/s eta 0:00:01\n",
      "   --------- ------------------------------ 1.0/4.1 MB 7.6 MB/s eta 0:00:01\n",
      "   ------------- -------------------------- 1.3/4.1 MB 7.7 MB/s eta 0:00:01\n",
      "   ----------------- ---------------------- 1.8/4.1 MB 8.1 MB/s eta 0:00:01\n",
      "   --------------------- ------------------ 2.2/4.1 MB 8.2 MB/s eta 0:00:01\n",
      "   ------------------------- -------------- 2.6/4.1 MB 8.2 MB/s eta 0:00:01\n",
      "   ----------------------------- ---------- 3.0/4.1 MB 8.3 MB/s eta 0:00:01\n",
      "   --------------------------------- ------ 3.4/4.1 MB 8.4 MB/s eta 0:00:01\n",
      "   ------------------------------------- -- 3.8/4.1 MB 8.4 MB/s eta 0:00:01\n",
      "   ---------------------------------------- 4.1/4.1 MB 8.2 MB/s eta 0:00:00\n",
      "Downloading grpcio_status-1.64.1-py3-none-any.whl (14 kB)\n",
      "Downloading protobuf-5.27.2-cp310-abi3-win_amd64.whl (426 kB)\n",
      "   ---------------------------------------- 0.0/426.9 kB ? eta -:--:--\n",
      "   ---------------------------------------  419.8/426.9 kB 8.7 MB/s eta 0:00:01\n",
      "   ---------------------------------------- 426.9/426.9 kB 4.4 MB/s eta 0:00:00\n",
      "Installing collected packages: protobuf, grpcio, grpcio-status, google-cloud-bigquery\n",
      "  Attempting uninstall: protobuf\n",
      "    Found existing installation: protobuf 3.20.3\n",
      "    Uninstalling protobuf-3.20.3:\n",
      "      Successfully uninstalled protobuf-3.20.3\n",
      "Successfully installed google-cloud-bigquery-3.25.0 grpcio-1.64.1 grpcio-status-1.64.1 protobuf-5.27.2\n"
     ]
    },
    {
     "name": "stderr",
     "output_type": "stream",
     "text": [
      "ERROR: pip's dependency resolver does not currently take into account all the packages that are installed. This behaviour is the source of the following dependency conflicts.\n",
      "streamlit 1.30.0 requires protobuf<5,>=3.20, but you have protobuf 5.27.2 which is incompatible.\n"
     ]
    }
   ],
   "source": [
    "!pip install google-cloud-bigquery"
   ]
  },
  {
   "cell_type": "code",
   "execution_count": 3,
   "metadata": {
    "id": "0o5eABcXLFZL"
   },
   "outputs": [],
   "source": [
    "from google.cloud import bigquery\n",
    "from google.cloud.bigquery import Dataset\n",
    "from google.cloud import storage"
   ]
  },
  {
   "cell_type": "markdown",
   "metadata": {
    "id": "hHZQSxxqLFZR"
   },
   "source": [
    "Invoke a method of the `.Client` object that takes the path to your key files as a string argument:"
   ]
  },
  {
   "cell_type": "code",
   "execution_count": null,
   "metadata": {},
   "outputs": [],
   "source": [
    "'modular-crawler-429319-g6-4a9773e733cd.json'"
   ]
  },
  {
   "cell_type": "code",
   "execution_count": 4,
   "metadata": {
    "id": "8nTBh0TvLFZR"
   },
   "outputs": [],
   "source": [
    "key_path = 'modular-crawler-429319-g6-4a9773e733cd.json' # put the path to your json key file here"
   ]
  },
  {
   "cell_type": "markdown",
   "metadata": {
    "id": "0XKIHVy8LFZT"
   },
   "source": [
    "This should not throw an error if key retrieval / assignment worked:"
   ]
  },
  {
   "cell_type": "code",
   "execution_count": null,
   "metadata": {
    "id": "gfqDJPU9LFZT"
   },
   "outputs": [],
   "source": [
    "storage_client = storage.Client.from_service_account_json(key_path)"
   ]
  },
  {
   "cell_type": "markdown",
   "metadata": {
    "id": "Z1sntjgJLFZU"
   },
   "source": [
    "*Nb. The `storage` object was used in the above example, but there are other objects of interest that have polymorphic `Client` members that are used similarly, such as `bigquery`, which is used below.*"
   ]
  },
  {
   "cell_type": "markdown",
   "metadata": {
    "id": "zSA3wp7NLFZX"
   },
   "source": [
    "Next, execute this:"
   ]
  },
  {
   "cell_type": "code",
   "execution_count": 5,
   "metadata": {
    "id": "ljcqTlxXLFZX"
   },
   "outputs": [],
   "source": [
    "client = bigquery.Client.from_service_account_json(key_path)"
   ]
  },
  {
   "cell_type": "markdown",
   "metadata": {
    "id": "kS1b8GXYLFZY"
   },
   "source": [
    "This client is associated with the default project (which was set or defaulted in the BigQuery UI):"
   ]
  },
  {
   "cell_type": "code",
   "execution_count": 6,
   "metadata": {
    "id": "LflN4IlzLFZY"
   },
   "outputs": [
    {
     "data": {
      "text/plain": [
       "'modular-crawler-429319-g6'"
      ]
     },
     "execution_count": 6,
     "metadata": {},
     "output_type": "execute_result"
    }
   ],
   "source": [
    "client.project"
   ]
  },
  {
   "cell_type": "markdown",
   "metadata": {
    "id": "BXQNVF1XLFZb"
   },
   "source": [
    "A BigQuery project contains datasets. Datasets contain tables. To get at the data in a table we need to create a reference that covers this hierarchy; in the `bigquery` library this looks like `project.dataset.table`.  \n",
    "\n",
    "(Nb. Queries can be performed on projects and datasets, but most queries are performed on tables.)"
   ]
  },
  {
   "cell_type": "markdown",
   "metadata": {
    "id": "fOtLSyBdLFZb"
   },
   "source": [
    "To explore the public datasets we will start by reassigning our `client` variable using optional `project` parameter (set to `bigquery-public-data`):"
   ]
  },
  {
   "cell_type": "code",
   "execution_count": 33,
   "metadata": {
    "id": "SQTQ24whLFZc"
   },
   "outputs": [
    {
     "name": "stdout",
     "output_type": "stream",
     "text": [
      "bigquery-public-data\n"
     ]
    }
   ],
   "source": [
    "#project = 'bigquery-public-data'\n",
    "client = bigquery.Client.from_service_account_json(key_path, project = 'bigquery-public-data')\n",
    "print(client.project)"
   ]
  },
  {
   "cell_type": "markdown",
   "metadata": {
    "id": "ZonWy10xLFZe"
   },
   "source": [
    "Here is how to get a list of the datasets in the current project:"
   ]
  },
  {
   "cell_type": "code",
   "execution_count": 8,
   "metadata": {
    "id": "yQan0v1vLFZe"
   },
   "outputs": [
    {
     "name": "stdout",
     "output_type": "stream",
     "text": [
      "[<google.cloud.bigquery.dataset.DatasetListItem object at 0x000001F8EE28EF50>, <google.cloud.bigquery.dataset.DatasetListItem object at 0x000001F8EAEA0850>, <google.cloud.bigquery.dataset.DatasetListItem object at 0x000001F8EE2AC3D0>, <google.cloud.bigquery.dataset.DatasetListItem object at 0x000001F8EE2AEA50>, <google.cloud.bigquery.dataset.DatasetListItem object at 0x000001F8EE2AFBD0>, <google.cloud.bigquery.dataset.DatasetListItem object at 0x000001F8EE2B84D0>, <google.cloud.bigquery.dataset.DatasetListItem object at 0x000001F8EE2B8310>, <google.cloud.bigquery.dataset.DatasetListItem object at 0x000001F8EE2B85D0>, <google.cloud.bigquery.dataset.DatasetListItem object at 0x000001F8EE2B8610>, <google.cloud.bigquery.dataset.DatasetListItem object at 0x000001F8EE2AF3D0>, <google.cloud.bigquery.dataset.DatasetListItem object at 0x000001F8EE2BACD0>, <google.cloud.bigquery.dataset.DatasetListItem object at 0x000001F8EE2B92D0>, <google.cloud.bigquery.dataset.DatasetListItem object at 0x000001F8EE2B93D0>, <google.cloud.bigquery.dataset.DatasetListItem object at 0x000001F8EE2BBC50>, <google.cloud.bigquery.dataset.DatasetListItem object at 0x000001F8EE2BB950>, <google.cloud.bigquery.dataset.DatasetListItem object at 0x000001F8EE2BB4D0>, <google.cloud.bigquery.dataset.DatasetListItem object at 0x000001F8EE2BB450>, <google.cloud.bigquery.dataset.DatasetListItem object at 0x000001F8EE2BB350>, <google.cloud.bigquery.dataset.DatasetListItem object at 0x000001F8EE2B9B10>, <google.cloud.bigquery.dataset.DatasetListItem object at 0x000001F8EE2B9A90>, <google.cloud.bigquery.dataset.DatasetListItem object at 0x000001F8EE2BD250>, <google.cloud.bigquery.dataset.DatasetListItem object at 0x000001F8EE2BCA50>, <google.cloud.bigquery.dataset.DatasetListItem object at 0x000001F8EE2BD290>, <google.cloud.bigquery.dataset.DatasetListItem object at 0x000001F8EE2BE050>, <google.cloud.bigquery.dataset.DatasetListItem object at 0x000001F8EE2BD610>, <google.cloud.bigquery.dataset.DatasetListItem object at 0x000001F8EE2BDDD0>, <google.cloud.bigquery.dataset.DatasetListItem object at 0x000001F8EE2BDD90>, <google.cloud.bigquery.dataset.DatasetListItem object at 0x000001F8EE2BDD50>, <google.cloud.bigquery.dataset.DatasetListItem object at 0x000001F8EE2BDD10>, <google.cloud.bigquery.dataset.DatasetListItem object at 0x000001F8EE2BDC90>, <google.cloud.bigquery.dataset.DatasetListItem object at 0x000001F8EE2BDCD0>, <google.cloud.bigquery.dataset.DatasetListItem object at 0x000001F8EE2BDC50>, <google.cloud.bigquery.dataset.DatasetListItem object at 0x000001F8EE2BDC10>, <google.cloud.bigquery.dataset.DatasetListItem object at 0x000001F8EE2BD690>, <google.cloud.bigquery.dataset.DatasetListItem object at 0x000001F8EE2BD410>, <google.cloud.bigquery.dataset.DatasetListItem object at 0x000001F8EE2BDFD0>, <google.cloud.bigquery.dataset.DatasetListItem object at 0x000001F8EE2BDF90>, <google.cloud.bigquery.dataset.DatasetListItem object at 0x000001F8EE2BD350>, <google.cloud.bigquery.dataset.DatasetListItem object at 0x000001F8EE2BDF50>, <google.cloud.bigquery.dataset.DatasetListItem object at 0x000001F8EE2BDF10>, <google.cloud.bigquery.dataset.DatasetListItem object at 0x000001F8EE2BDED0>, <google.cloud.bigquery.dataset.DatasetListItem object at 0x000001F8EE2BDE10>, <google.cloud.bigquery.dataset.DatasetListItem object at 0x000001F8EE2BD210>, <google.cloud.bigquery.dataset.DatasetListItem object at 0x000001F8EE2CCF90>, <google.cloud.bigquery.dataset.DatasetListItem object at 0x000001F8EE2CCFD0>, <google.cloud.bigquery.dataset.DatasetListItem object at 0x000001F8EE2CD010>, <google.cloud.bigquery.dataset.DatasetListItem object at 0x000001F8EE2CD050>, <google.cloud.bigquery.dataset.DatasetListItem object at 0x000001F8EE2CD090>, <google.cloud.bigquery.dataset.DatasetListItem object at 0x000001F8EE2CD0D0>, <google.cloud.bigquery.dataset.DatasetListItem object at 0x000001F8EE2CD110>, <google.cloud.bigquery.dataset.DatasetListItem object at 0x000001F8EBEBFC90>, <google.cloud.bigquery.dataset.DatasetListItem object at 0x000001F8EE28E710>, <google.cloud.bigquery.dataset.DatasetListItem object at 0x000001F8EE28FED0>, <google.cloud.bigquery.dataset.DatasetListItem object at 0x000001F8EE28FF50>, <google.cloud.bigquery.dataset.DatasetListItem object at 0x000001F8EE2B9AD0>, <google.cloud.bigquery.dataset.DatasetListItem object at 0x000001F8EE2B9B90>, <google.cloud.bigquery.dataset.DatasetListItem object at 0x000001F8EE2BCC90>, <google.cloud.bigquery.dataset.DatasetListItem object at 0x000001F8EE2BDA50>, <google.cloud.bigquery.dataset.DatasetListItem object at 0x000001F8EE2BD950>, <google.cloud.bigquery.dataset.DatasetListItem object at 0x000001F8EE2BD9D0>, <google.cloud.bigquery.dataset.DatasetListItem object at 0x000001F8EE2BDA10>, <google.cloud.bigquery.dataset.DatasetListItem object at 0x000001F8EE2BD6D0>, <google.cloud.bigquery.dataset.DatasetListItem object at 0x000001F8EE2BD890>, <google.cloud.bigquery.dataset.DatasetListItem object at 0x000001F8EE2BD650>, <google.cloud.bigquery.dataset.DatasetListItem object at 0x000001F8EE2BD7D0>, <google.cloud.bigquery.dataset.DatasetListItem object at 0x000001F8EE2BD790>, <google.cloud.bigquery.dataset.DatasetListItem object at 0x000001F8EE2BD750>, <google.cloud.bigquery.dataset.DatasetListItem object at 0x000001F8EE2BD850>, <google.cloud.bigquery.dataset.DatasetListItem object at 0x000001F8EE2CD150>, <google.cloud.bigquery.dataset.DatasetListItem object at 0x000001F8EE2CD190>, <google.cloud.bigquery.dataset.DatasetListItem object at 0x000001F8EE2CD1D0>, <google.cloud.bigquery.dataset.DatasetListItem object at 0x000001F8EE2CD2D0>, <google.cloud.bigquery.dataset.DatasetListItem object at 0x000001F8EE2CD210>, <google.cloud.bigquery.dataset.DatasetListItem object at 0x000001F8EE2CD250>, <google.cloud.bigquery.dataset.DatasetListItem object at 0x000001F8EE2CD6D0>, <google.cloud.bigquery.dataset.DatasetListItem object at 0x000001F8EE2CD690>, <google.cloud.bigquery.dataset.DatasetListItem object at 0x000001F8EE2CD5D0>, <google.cloud.bigquery.dataset.DatasetListItem object at 0x000001F8EE2CD650>, <google.cloud.bigquery.dataset.DatasetListItem object at 0x000001F8EE2CD610>, <google.cloud.bigquery.dataset.DatasetListItem object at 0x000001F8EE2CDB10>, <google.cloud.bigquery.dataset.DatasetListItem object at 0x000001F8EE2CDBD0>, <google.cloud.bigquery.dataset.DatasetListItem object at 0x000001F8EE2CDB90>, <google.cloud.bigquery.dataset.DatasetListItem object at 0x000001F8EE2CDA90>, <google.cloud.bigquery.dataset.DatasetListItem object at 0x000001F8EE2CD910>, <google.cloud.bigquery.dataset.DatasetListItem object at 0x000001F8EE2CD790>, <google.cloud.bigquery.dataset.DatasetListItem object at 0x000001F8EE2CDCD0>, <google.cloud.bigquery.dataset.DatasetListItem object at 0x000001F8EE2CD8D0>, <google.cloud.bigquery.dataset.DatasetListItem object at 0x000001F8EE2CE410>, <google.cloud.bigquery.dataset.DatasetListItem object at 0x000001F8EE2CD4D0>, <google.cloud.bigquery.dataset.DatasetListItem object at 0x000001F8EE2CDE50>, <google.cloud.bigquery.dataset.DatasetListItem object at 0x000001F8EE2CE390>, <google.cloud.bigquery.dataset.DatasetListItem object at 0x000001F8EE2CE350>, <google.cloud.bigquery.dataset.DatasetListItem object at 0x000001F8EE2CDD50>, <google.cloud.bigquery.dataset.DatasetListItem object at 0x000001F8EE2CE310>, <google.cloud.bigquery.dataset.DatasetListItem object at 0x000001F8EE2CE2D0>, <google.cloud.bigquery.dataset.DatasetListItem object at 0x000001F8EE2CE290>, <google.cloud.bigquery.dataset.DatasetListItem object at 0x000001F8EE2CDED0>, <google.cloud.bigquery.dataset.DatasetListItem object at 0x000001F8EE2CDDD0>, <google.cloud.bigquery.dataset.DatasetListItem object at 0x000001F8EE2D4F90>, <google.cloud.bigquery.dataset.DatasetListItem object at 0x000001F8EE2D4FD0>, <google.cloud.bigquery.dataset.DatasetListItem object at 0x000001F8EE28FA50>, <google.cloud.bigquery.dataset.DatasetListItem object at 0x000001F8EE2B9090>, <google.cloud.bigquery.dataset.DatasetListItem object at 0x000001F8EE2BBCD0>, <google.cloud.bigquery.dataset.DatasetListItem object at 0x000001F8EE2BDA90>, <google.cloud.bigquery.dataset.DatasetListItem object at 0x000001F8EE2CD290>, <google.cloud.bigquery.dataset.DatasetListItem object at 0x000001F8EE2CD390>, <google.cloud.bigquery.dataset.DatasetListItem object at 0x000001F8EE2CD310>, <google.cloud.bigquery.dataset.DatasetListItem object at 0x000001F8EE2CE090>, <google.cloud.bigquery.dataset.DatasetListItem object at 0x000001F8EE2CE010>, <google.cloud.bigquery.dataset.DatasetListItem object at 0x000001F8EE2CE150>, <google.cloud.bigquery.dataset.DatasetListItem object at 0x000001F8EE2CE0D0>, <google.cloud.bigquery.dataset.DatasetListItem object at 0x000001F8EE2CE110>, <google.cloud.bigquery.dataset.DatasetListItem object at 0x000001F8EE2CDD10>, <google.cloud.bigquery.dataset.DatasetListItem object at 0x000001F8EE2CDA50>, <google.cloud.bigquery.dataset.DatasetListItem object at 0x000001F8EE2CDFD0>, <google.cloud.bigquery.dataset.DatasetListItem object at 0x000001F8EE2CD590>, <google.cloud.bigquery.dataset.DatasetListItem object at 0x000001F8EE2CDF90>, <google.cloud.bigquery.dataset.DatasetListItem object at 0x000001F8EE2CDF10>, <google.cloud.bigquery.dataset.DatasetListItem object at 0x000001F8EE2D5010>, <google.cloud.bigquery.dataset.DatasetListItem object at 0x000001F8EE2D5050>, <google.cloud.bigquery.dataset.DatasetListItem object at 0x000001F8EE2D5090>, <google.cloud.bigquery.dataset.DatasetListItem object at 0x000001F8EE2D5190>, <google.cloud.bigquery.dataset.DatasetListItem object at 0x000001F8EE2D50D0>, <google.cloud.bigquery.dataset.DatasetListItem object at 0x000001F8EE2D5110>, <google.cloud.bigquery.dataset.DatasetListItem object at 0x000001F8EE2D5550>, <google.cloud.bigquery.dataset.DatasetListItem object at 0x000001F8EE2D5510>, <google.cloud.bigquery.dataset.DatasetListItem object at 0x000001F8EE2D5450>, <google.cloud.bigquery.dataset.DatasetListItem object at 0x000001F8EE2D54D0>, <google.cloud.bigquery.dataset.DatasetListItem object at 0x000001F8EE2D5490>, <google.cloud.bigquery.dataset.DatasetListItem object at 0x000001F8EE2D5990>, <google.cloud.bigquery.dataset.DatasetListItem object at 0x000001F8EE2D5A50>, <google.cloud.bigquery.dataset.DatasetListItem object at 0x000001F8EE2D5A10>, <google.cloud.bigquery.dataset.DatasetListItem object at 0x000001F8EE2D5910>, <google.cloud.bigquery.dataset.DatasetListItem object at 0x000001F8EE2D5790>, <google.cloud.bigquery.dataset.DatasetListItem object at 0x000001F8EE2D5610>, <google.cloud.bigquery.dataset.DatasetListItem object at 0x000001F8EE2D5B50>, <google.cloud.bigquery.dataset.DatasetListItem object at 0x000001F8EE2D5CD0>, <google.cloud.bigquery.dataset.DatasetListItem object at 0x000001F8EE2D5D10>, <google.cloud.bigquery.dataset.DatasetListItem object at 0x000001F8EE2D6310>, <google.cloud.bigquery.dataset.DatasetListItem object at 0x000001F8EE2D5850>, <google.cloud.bigquery.dataset.DatasetListItem object at 0x000001F8EE2D5C50>, <google.cloud.bigquery.dataset.DatasetListItem object at 0x000001F8EE2D6290>, <google.cloud.bigquery.dataset.DatasetListItem object at 0x000001F8EE2D6250>, <google.cloud.bigquery.dataset.DatasetListItem object at 0x000001F8EE2D5D50>, <google.cloud.bigquery.dataset.DatasetListItem object at 0x000001F8EE2D6210>, <google.cloud.bigquery.dataset.DatasetListItem object at 0x000001F8EE2D61D0>, <google.cloud.bigquery.dataset.DatasetListItem object at 0x000001F8EE2D6190>, <google.cloud.bigquery.dataset.DatasetListItem object at 0x000001F8EE2D6150>, <google.cloud.bigquery.dataset.DatasetListItem object at 0x000001F8EE2D5B90>, <google.cloud.bigquery.dataset.DatasetListItem object at 0x000001F8EE2E4A50>, <google.cloud.bigquery.dataset.DatasetListItem object at 0x000001F8EE2AD410>, <google.cloud.bigquery.dataset.DatasetListItem object at 0x000001F8EE2BCB10>, <google.cloud.bigquery.dataset.DatasetListItem object at 0x000001F8EE2CE190>, <google.cloud.bigquery.dataset.DatasetListItem object at 0x000001F8EE2D5210>, <google.cloud.bigquery.dataset.DatasetListItem object at 0x000001F8EE2D5250>, <google.cloud.bigquery.dataset.DatasetListItem object at 0x000001F8EE2D51D0>, <google.cloud.bigquery.dataset.DatasetListItem object at 0x000001F8EE2D5F50>, <google.cloud.bigquery.dataset.DatasetListItem object at 0x000001F8EE2D5ED0>, <google.cloud.bigquery.dataset.DatasetListItem object at 0x000001F8EE2D6010>, <google.cloud.bigquery.dataset.DatasetListItem object at 0x000001F8EE2D5F90>, <google.cloud.bigquery.dataset.DatasetListItem object at 0x000001F8EE2D5FD0>, <google.cloud.bigquery.dataset.DatasetListItem object at 0x000001F8EE2D5D90>, <google.cloud.bigquery.dataset.DatasetListItem object at 0x000001F8EE2D58D0>, <google.cloud.bigquery.dataset.DatasetListItem object at 0x000001F8EE2D5E90>, <google.cloud.bigquery.dataset.DatasetListItem object at 0x000001F8EE2D5410>, <google.cloud.bigquery.dataset.DatasetListItem object at 0x000001F8EE2D5E50>, <google.cloud.bigquery.dataset.DatasetListItem object at 0x000001F8EE2D5DD0>, <google.cloud.bigquery.dataset.DatasetListItem object at 0x000001F8EE2E4A90>, <google.cloud.bigquery.dataset.DatasetListItem object at 0x000001F8EE2E4AD0>, <google.cloud.bigquery.dataset.DatasetListItem object at 0x000001F8EE2E4B10>, <google.cloud.bigquery.dataset.DatasetListItem object at 0x000001F8EE2E4C10>, <google.cloud.bigquery.dataset.DatasetListItem object at 0x000001F8EE2E4B50>, <google.cloud.bigquery.dataset.DatasetListItem object at 0x000001F8EE2E4B90>, <google.cloud.bigquery.dataset.DatasetListItem object at 0x000001F8EE2E4FD0>, <google.cloud.bigquery.dataset.DatasetListItem object at 0x000001F8EE2E4F90>, <google.cloud.bigquery.dataset.DatasetListItem object at 0x000001F8EE2E4ED0>, <google.cloud.bigquery.dataset.DatasetListItem object at 0x000001F8EE2E4F50>, <google.cloud.bigquery.dataset.DatasetListItem object at 0x000001F8EE2E4F10>, <google.cloud.bigquery.dataset.DatasetListItem object at 0x000001F8EE2E5410>, <google.cloud.bigquery.dataset.DatasetListItem object at 0x000001F8EE2E5090>, <google.cloud.bigquery.dataset.DatasetListItem object at 0x000001F8EE2E5510>, <google.cloud.bigquery.dataset.DatasetListItem object at 0x000001F8EE2E54D0>, <google.cloud.bigquery.dataset.DatasetListItem object at 0x000001F8EE2E5490>, <google.cloud.bigquery.dataset.DatasetListItem object at 0x000001F8EE2E5390>, <google.cloud.bigquery.dataset.DatasetListItem object at 0x000001F8EE2E5450>, <google.cloud.bigquery.dataset.DatasetListItem object at 0x000001F8EE2E5610>, <google.cloud.bigquery.dataset.DatasetListItem object at 0x000001F8EE2E5790>, <google.cloud.bigquery.dataset.DatasetListItem object at 0x000001F8EE2E57D0>, <google.cloud.bigquery.dataset.DatasetListItem object at 0x000001F8EE2E5DD0>, <google.cloud.bigquery.dataset.DatasetListItem object at 0x000001F8EE2E52D0>, <google.cloud.bigquery.dataset.DatasetListItem object at 0x000001F8EE2E5710>, <google.cloud.bigquery.dataset.DatasetListItem object at 0x000001F8EE2E5D50>, <google.cloud.bigquery.dataset.DatasetListItem object at 0x000001F8EE2E5D10>, <google.cloud.bigquery.dataset.DatasetListItem object at 0x000001F8EE2E5810>, <google.cloud.bigquery.dataset.DatasetListItem object at 0x000001F8EE2E5CD0>, <google.cloud.bigquery.dataset.DatasetListItem object at 0x000001F8EE2E5C90>, <google.cloud.bigquery.dataset.DatasetListItem object at 0x000001F8EE2E5C50>, <google.cloud.bigquery.dataset.DatasetListItem object at 0x000001F8EE2E5C10>, <google.cloud.bigquery.dataset.DatasetListItem object at 0x000001F8EE2E5650>, <google.cloud.bigquery.dataset.DatasetListItem object at 0x000001F8EE2F0190>, <google.cloud.bigquery.dataset.DatasetListItem object at 0x000001F8EE2BC6D0>, <google.cloud.bigquery.dataset.DatasetListItem object at 0x000001F8EE2CDE90>, <google.cloud.bigquery.dataset.DatasetListItem object at 0x000001F8EE2D6050>, <google.cloud.bigquery.dataset.DatasetListItem object at 0x000001F8EE2E4BD0>, <google.cloud.bigquery.dataset.DatasetListItem object at 0x000001F8EE2E4CD0>, <google.cloud.bigquery.dataset.DatasetListItem object at 0x000001F8EE2E4C50>, <google.cloud.bigquery.dataset.DatasetListItem object at 0x000001F8EE2E5A10>, <google.cloud.bigquery.dataset.DatasetListItem object at 0x000001F8EE2E5990>, <google.cloud.bigquery.dataset.DatasetListItem object at 0x000001F8EE2E5AD0>, <google.cloud.bigquery.dataset.DatasetListItem object at 0x000001F8EE2E5A50>, <google.cloud.bigquery.dataset.DatasetListItem object at 0x000001F8EE2E5A90>, <google.cloud.bigquery.dataset.DatasetListItem object at 0x000001F8EE2E5850>, <google.cloud.bigquery.dataset.DatasetListItem object at 0x000001F8EE2E5350>, <google.cloud.bigquery.dataset.DatasetListItem object at 0x000001F8EE2E5950>, <google.cloud.bigquery.dataset.DatasetListItem object at 0x000001F8EE2E4E90>, <google.cloud.bigquery.dataset.DatasetListItem object at 0x000001F8EE2E5910>, <google.cloud.bigquery.dataset.DatasetListItem object at 0x000001F8EE2E5890>, <google.cloud.bigquery.dataset.DatasetListItem object at 0x000001F8EE2F01D0>, <google.cloud.bigquery.dataset.DatasetListItem object at 0x000001F8EE2F0210>, <google.cloud.bigquery.dataset.DatasetListItem object at 0x000001F8EE2F0250>, <google.cloud.bigquery.dataset.DatasetListItem object at 0x000001F8EE2F0350>, <google.cloud.bigquery.dataset.DatasetListItem object at 0x000001F8EE2F0290>, <google.cloud.bigquery.dataset.DatasetListItem object at 0x000001F8EE2F02D0>, <google.cloud.bigquery.dataset.DatasetListItem object at 0x000001F8EE2F0710>, <google.cloud.bigquery.dataset.DatasetListItem object at 0x000001F8EE2F06D0>, <google.cloud.bigquery.dataset.DatasetListItem object at 0x000001F8EE2F0610>, <google.cloud.bigquery.dataset.DatasetListItem object at 0x000001F8EE2F0690>, <google.cloud.bigquery.dataset.DatasetListItem object at 0x000001F8EE2F0650>, <google.cloud.bigquery.dataset.DatasetListItem object at 0x000001F8EE2F0B50>, <google.cloud.bigquery.dataset.DatasetListItem object at 0x000001F8EE2F0C10>, <google.cloud.bigquery.dataset.DatasetListItem object at 0x000001F8EE2F0BD0>, <google.cloud.bigquery.dataset.DatasetListItem object at 0x000001F8EE2F0AD0>, <google.cloud.bigquery.dataset.DatasetListItem object at 0x000001F8EE2F0950>, <google.cloud.bigquery.dataset.DatasetListItem object at 0x000001F8EE2F07D0>, <google.cloud.bigquery.dataset.DatasetListItem object at 0x000001F8EE2F0D10>, <google.cloud.bigquery.dataset.DatasetListItem object at 0x000001F8EE2F0E90>, <google.cloud.bigquery.dataset.DatasetListItem object at 0x000001F8EE2F0ED0>, <google.cloud.bigquery.dataset.DatasetListItem object at 0x000001F8EE2F14D0>, <google.cloud.bigquery.dataset.DatasetListItem object at 0x000001F8EE2F0A10>, <google.cloud.bigquery.dataset.DatasetListItem object at 0x000001F8EE2F0E10>, <google.cloud.bigquery.dataset.DatasetListItem object at 0x000001F8EE2F1450>, <google.cloud.bigquery.dataset.DatasetListItem object at 0x000001F8EE2F1410>, <google.cloud.bigquery.dataset.DatasetListItem object at 0x000001F8EE2F0F10>, <google.cloud.bigquery.dataset.DatasetListItem object at 0x000001F8EE2F13D0>, <google.cloud.bigquery.dataset.DatasetListItem object at 0x000001F8EE2F1390>, <google.cloud.bigquery.dataset.DatasetListItem object at 0x000001F8EE2F1350>, <google.cloud.bigquery.dataset.DatasetListItem object at 0x000001F8EE2F1310>, <google.cloud.bigquery.dataset.DatasetListItem object at 0x000001F8EE2F0D50>, <google.cloud.bigquery.dataset.DatasetListItem object at 0x000001F8EE2F3F90>, <google.cloud.bigquery.dataset.DatasetListItem object at 0x000001F8EE2F3FD0>, <google.cloud.bigquery.dataset.DatasetListItem object at 0x000001F8EE28F150>, <google.cloud.bigquery.dataset.DatasetListItem object at 0x000001F8EE2D5C90>, <google.cloud.bigquery.dataset.DatasetListItem object at 0x000001F8EE2E5B10>, <google.cloud.bigquery.dataset.DatasetListItem object at 0x000001F8EE2F0450>, <google.cloud.bigquery.dataset.DatasetListItem object at 0x000001F8EE2F0310>, <google.cloud.bigquery.dataset.DatasetListItem object at 0x000001F8EE2F0410>, <google.cloud.bigquery.dataset.DatasetListItem object at 0x000001F8EE2F0390>, <google.cloud.bigquery.dataset.DatasetListItem object at 0x000001F8EE2F1110>, <google.cloud.bigquery.dataset.DatasetListItem object at 0x000001F8EE2F1090>, <google.cloud.bigquery.dataset.DatasetListItem object at 0x000001F8EE2F11D0>, <google.cloud.bigquery.dataset.DatasetListItem object at 0x000001F8EE2F1150>, <google.cloud.bigquery.dataset.DatasetListItem object at 0x000001F8EE2F1190>, <google.cloud.bigquery.dataset.DatasetListItem object at 0x000001F8EE2F0F50>, <google.cloud.bigquery.dataset.DatasetListItem object at 0x000001F8EE2F0A90>, <google.cloud.bigquery.dataset.DatasetListItem object at 0x000001F8EE2F1050>, <google.cloud.bigquery.dataset.DatasetListItem object at 0x000001F8EE2F05D0>, <google.cloud.bigquery.dataset.DatasetListItem object at 0x000001F8EE2F1010>, <google.cloud.bigquery.dataset.DatasetListItem object at 0x000001F8EE2F0F90>, <google.cloud.bigquery.dataset.DatasetListItem object at 0x000001F8EE2FC050>, <google.cloud.bigquery.dataset.DatasetListItem object at 0x000001F8EE2FC090>, <google.cloud.bigquery.dataset.DatasetListItem object at 0x000001F8EE2FC0D0>, <google.cloud.bigquery.dataset.DatasetListItem object at 0x000001F8EE2FC1D0>, <google.cloud.bigquery.dataset.DatasetListItem object at 0x000001F8EE2FC110>, <google.cloud.bigquery.dataset.DatasetListItem object at 0x000001F8EE2FC150>, <google.cloud.bigquery.dataset.DatasetListItem object at 0x000001F8EE2FC590>, <google.cloud.bigquery.dataset.DatasetListItem object at 0x000001F8EE2FC550>, <google.cloud.bigquery.dataset.DatasetListItem object at 0x000001F8EE2FC490>, <google.cloud.bigquery.dataset.DatasetListItem object at 0x000001F8EE2FC510>, <google.cloud.bigquery.dataset.DatasetListItem object at 0x000001F8EE2FC4D0>, <google.cloud.bigquery.dataset.DatasetListItem object at 0x000001F8EE2FC9D0>, <google.cloud.bigquery.dataset.DatasetListItem object at 0x000001F8EE2FCA90>, <google.cloud.bigquery.dataset.DatasetListItem object at 0x000001F8EE2FCA50>, <google.cloud.bigquery.dataset.DatasetListItem object at 0x000001F8EE2FC950>, <google.cloud.bigquery.dataset.DatasetListItem object at 0x000001F8EE2FC7D0>, <google.cloud.bigquery.dataset.DatasetListItem object at 0x000001F8EE2FC650>, <google.cloud.bigquery.dataset.DatasetListItem object at 0x000001F8EE2FCB90>, <google.cloud.bigquery.dataset.DatasetListItem object at 0x000001F8EE2FCD10>, <google.cloud.bigquery.dataset.DatasetListItem object at 0x000001F8EE2FCD50>, <google.cloud.bigquery.dataset.DatasetListItem object at 0x000001F8EE2FD350>, <google.cloud.bigquery.dataset.DatasetListItem object at 0x000001F8EE2FC890>, <google.cloud.bigquery.dataset.DatasetListItem object at 0x000001F8EE2FCC90>, <google.cloud.bigquery.dataset.DatasetListItem object at 0x000001F8EE2FD2D0>, <google.cloud.bigquery.dataset.DatasetListItem object at 0x000001F8EE2FD290>, <google.cloud.bigquery.dataset.DatasetListItem object at 0x000001F8EE2FCD90>, <google.cloud.bigquery.dataset.DatasetListItem object at 0x000001F8EE2FD250>, <google.cloud.bigquery.dataset.DatasetListItem object at 0x000001F8EE2FD210>, <google.cloud.bigquery.dataset.DatasetListItem object at 0x000001F8EE2FD1D0>, <google.cloud.bigquery.dataset.DatasetListItem object at 0x000001F8EE2FD190>, <google.cloud.bigquery.dataset.DatasetListItem object at 0x000001F8EE2FCBD0>, <google.cloud.bigquery.dataset.DatasetListItem object at 0x000001F8EE2FFD90>, <google.cloud.bigquery.dataset.DatasetListItem object at 0x000001F8EE2B9D50>, <google.cloud.bigquery.dataset.DatasetListItem object at 0x000001F8EE2E5750>, <google.cloud.bigquery.dataset.DatasetListItem object at 0x000001F8EE2F1210>, <google.cloud.bigquery.dataset.DatasetListItem object at 0x000001F8EE2FC250>, <google.cloud.bigquery.dataset.DatasetListItem object at 0x000001F8EE2FC290>, <google.cloud.bigquery.dataset.DatasetListItem object at 0x000001F8EE2FC210>, <google.cloud.bigquery.dataset.DatasetListItem object at 0x000001F8EE2FFDD0>, <google.cloud.bigquery.dataset.DatasetListItem object at 0x000001F8EE2FFE10>, <google.cloud.bigquery.dataset.DatasetListItem object at 0x000001F8EE2FFE50>, <google.cloud.bigquery.dataset.DatasetListItem object at 0x000001F8EE2FFF50>, <google.cloud.bigquery.dataset.DatasetListItem object at 0x000001F8EE2FFE90>, <google.cloud.bigquery.dataset.DatasetListItem object at 0x000001F8EE2FFED0>, <google.cloud.bigquery.dataset.DatasetListItem object at 0x000001F8EE2FCF90>, <google.cloud.bigquery.dataset.DatasetListItem object at 0x000001F8EE2FCF10>, <google.cloud.bigquery.dataset.DatasetListItem object at 0x000001F8EE2FD050>, <google.cloud.bigquery.dataset.DatasetListItem object at 0x000001F8EE2FCFD0>, <google.cloud.bigquery.dataset.DatasetListItem object at 0x000001F8EE2FD010>, <google.cloud.bigquery.dataset.DatasetListItem object at 0x000001F8EE2FCDD0>, <google.cloud.bigquery.dataset.DatasetListItem object at 0x000001F8EE2FC910>, <google.cloud.bigquery.dataset.DatasetListItem object at 0x000001F8EE2FCED0>, <google.cloud.bigquery.dataset.DatasetListItem object at 0x000001F8EE2FC450>, <google.cloud.bigquery.dataset.DatasetListItem object at 0x000001F8EE2FCE90>, <google.cloud.bigquery.dataset.DatasetListItem object at 0x000001F8EE2FCE10>, <google.cloud.bigquery.dataset.DatasetListItem object at 0x000001F8EE308390>, <google.cloud.bigquery.dataset.DatasetListItem object at 0x000001F8EE308350>, <google.cloud.bigquery.dataset.DatasetListItem object at 0x000001F8EE308290>, <google.cloud.bigquery.dataset.DatasetListItem object at 0x000001F8EE308310>, <google.cloud.bigquery.dataset.DatasetListItem object at 0x000001F8EE3082D0>, <google.cloud.bigquery.dataset.DatasetListItem object at 0x000001F8EE3087D0>, <google.cloud.bigquery.dataset.DatasetListItem object at 0x000001F8EE308890>, <google.cloud.bigquery.dataset.DatasetListItem object at 0x000001F8EE308850>, <google.cloud.bigquery.dataset.DatasetListItem object at 0x000001F8EE308750>, <google.cloud.bigquery.dataset.DatasetListItem object at 0x000001F8EE3085D0>]\n"
     ]
    }
   ],
   "source": [
    "datasets = list(client.list_datasets())\n",
    "print(datasets)"
   ]
  },
  {
   "cell_type": "markdown",
   "metadata": {
    "id": "_UoYS4suLFZg"
   },
   "source": [
    "That wasn't helpful. We need to go deeper into the object structure to get at something meaningful. Actually, the `dataset_id` member contains the name attribute of a `dataset` object; write some code to print that name for each member of the list that was created above:"
   ]
  },
  {
   "cell_type": "code",
   "execution_count": null,
   "metadata": {
    "id": "MBV3-c21LFZi"
   },
   "outputs": [],
   "source": []
  },
  {
   "cell_type": "markdown",
   "metadata": {
    "id": "1VKuobUSLFZk"
   },
   "source": [
    "The google API objects in the `bigquery` library have their own overloads of the format() function that make them easier to read. Below is a function that exploits the `format` method of `project` and `dataset_id`, providing an easy way to list datasets:"
   ]
  },
  {
   "cell_type": "code",
   "execution_count": 13,
   "metadata": {
    "id": "obqd0X0vLFZl"
   },
   "outputs": [],
   "source": [
    "# function for listing datasets in a project:\n",
    "def printDatasetList(client):\n",
    "    project = client.project    #: only one project can be associated with a client instance\n",
    "    datasets = list(client.list_datasets())\n",
    "    if datasets:\n",
    "        print('Datasets in project {}:'.format(project))\n",
    "        for dataset in datasets:\n",
    "            print('\\t{}'.format(dataset.dataset_id))\n",
    "        found = True\n",
    "    else:\n",
    "        print('{} project does not contain any datasets.'.format(project))\n",
    "        found = False\n",
    "    return found"
   ]
  },
  {
   "cell_type": "code",
   "execution_count": 14,
   "metadata": {
    "id": "TcS8DXenLFZn"
   },
   "outputs": [
    {
     "name": "stdout",
     "output_type": "stream",
     "text": [
      "Datasets in project bigquery-public-data:\n",
      "\tamerica_health_rankings\n",
      "\taustin_311\n",
      "\taustin_bikeshare\n",
      "\taustin_crime\n",
      "\taustin_incidents\n",
      "\taustin_waste\n",
      "\tbaseball\n",
      "\tbbc_news\n",
      "\tbigqueryml_ncaa\n",
      "\tbitcoin_blockchain\n",
      "\tblackhole_database\n",
      "\tblockchain_analytics_ethereum_mainnet_us\n",
      "\tbls\n",
      "\tbls_qcew\n",
      "\tbreathe\n",
      "\tbroadstreet_adi\n",
      "\tcatalonian_mobile_coverage\n",
      "\tcatalonian_mobile_coverage_eu\n",
      "\tcensus_bureau_acs\n",
      "\tcensus_bureau_construction\n",
      "\tcensus_bureau_international\n",
      "\tcensus_bureau_usa\n",
      "\tcensus_opportunity_atlas\n",
      "\tcensus_utility\n",
      "\tcfpb_complaints\n",
      "\tchicago_crime\n",
      "\tchicago_taxi_trips\n",
      "\tclemson_dice\n",
      "\tcloud_storage_geo_index\n",
      "\tcms_codes\n",
      "\tcms_medicare\n",
      "\tcms_synthetic_patient_data_omop\n",
      "\tcountry_codes\n",
      "\tcovid19_aha\n",
      "\tcovid19_covidtracking\n",
      "\tcovid19_ecdc\n",
      "\tcovid19_ecdc_eu\n",
      "\tcovid19_genome_sequence\n",
      "\tcovid19_geotab_mobility_impact\n",
      "\tcovid19_geotab_mobility_impact_eu\n",
      "\tcovid19_google_mobility\n",
      "\tcovid19_google_mobility_eu\n",
      "\tcovid19_govt_response\n",
      "\tcovid19_italy\n",
      "\tcovid19_italy_eu\n",
      "\tcovid19_jhu_csse\n",
      "\tcovid19_jhu_csse_eu\n",
      "\tcovid19_nyt\n",
      "\tcovid19_open_data\n",
      "\tcovid19_open_data_eu\n",
      "\tcovid19_public_forecasts\n",
      "\tcovid19_public_forecasts_asia_ne1\n",
      "\tcovid19_rxrx19\n",
      "\tcovid19_symptom_search\n",
      "\tcovid19_tracking\n",
      "\tcovid19_usafacts\n",
      "\tcovid19_vaccination_access\n",
      "\tcovid19_vaccination_search_insights\n",
      "\tcovid19_weathersource_com\n",
      "\tcrypto_aptos_mainnet_us\n",
      "\tcrypto_aptos_testnet_us\n",
      "\tcrypto_band\n",
      "\tcrypto_bitcoin\n",
      "\tcrypto_bitcoin_cash\n",
      "\tcrypto_dash\n",
      "\tcrypto_dogecoin\n",
      "\tcrypto_ethereum\n",
      "\tcrypto_ethereum_classic\n",
      "\tcrypto_iotex\n",
      "\tcrypto_kusama\n",
      "\tcrypto_litecoin\n",
      "\tcrypto_multiversx_mainnet_eu\n",
      "\tcrypto_near_mainnet_us\n",
      "\tcrypto_polkadot\n",
      "\tcrypto_polygon\n",
      "\tcrypto_solana_mainnet_us\n",
      "\tcrypto_sui_mainnet_us\n",
      "\tcrypto_tezos\n",
      "\tcrypto_theta\n",
      "\tcrypto_zcash\n",
      "\tcrypto_zilliqa\n",
      "\tcymbal_investments\n",
      "\tdataflix_covid\n",
      "\tdataflix_traffic_safety\n",
      "\tdeepmind_alphafold\n",
      "\tdeps_dev_v1\n",
      "\tdimensions_ai_covid19\n",
      "\tebi_chembl\n",
      "\tebi_surechembl\n",
      "\teclipse_megamovie\n",
      "\tepa_historical_air_quality\n",
      "\tethereum_blockchain\n",
      "\tetsi_technical_standards\n",
      "\tfaa\n",
      "\tfcc_political_ads\n",
      "\tfda_drug\n",
      "\tfda_food\n",
      "\tfdic_banks\n",
      "\tfec\n",
      "\tfhir_synthea\n",
      "\tga4_obfuscated_sample_ecommerce\n",
      "\tgbif\n",
      "\tgdelt_hathitrustbooks\n",
      "\tgdelt_internetarchivebooks\n",
      "\tgenomics_cannabis\n",
      "\tgenomics_rice\n",
      "\tgeo_census_blockgroups\n",
      "\tgeo_census_tracts\n",
      "\tgeo_international_ports\n",
      "\tgeo_openstreetmap\n",
      "\tgeo_us_boundaries\n",
      "\tgeo_us_census_places\n",
      "\tgeo_us_roads\n",
      "\tgeo_whos_on_first\n",
      "\tghcn_d\n",
      "\tghcn_m\n",
      "\tgithub_repos\n",
      "\tgnomAD\n",
      "\tgnomAD_asiane1\n",
      "\tgnomAD_eu\n",
      "\tgoog_blockchain_arbitrum_one_us\n",
      "\tgoog_blockchain_avalanche_contract_chain_us\n",
      "\tgoog_blockchain_cronos_mainnet_us\n",
      "\tgoog_blockchain_ethereum_goerli_us\n",
      "\tgoog_blockchain_ethereum_mainnet_us\n",
      "\tgoog_blockchain_fantom_opera_us\n",
      "\tgoog_blockchain_optimism_mainnet_us\n",
      "\tgoog_blockchain_polygon_mainnet_us\n",
      "\tgoog_blockchain_tron_mainnet_us\n",
      "\tgoogle_ads\n",
      "\tgoogle_ads_geo_mapping_asia_east1\n",
      "\tgoogle_ads_geo_mapping_asia_east2\n",
      "\tgoogle_ads_geo_mapping_asia_northeast1\n",
      "\tgoogle_ads_geo_mapping_asia_northeast2\n",
      "\tgoogle_ads_geo_mapping_asia_northeast3\n",
      "\tgoogle_ads_geo_mapping_asia_south1\n",
      "\tgoogle_ads_geo_mapping_asia_south2\n",
      "\tgoogle_ads_geo_mapping_asia_southeast1\n",
      "\tgoogle_ads_geo_mapping_asia_southeast2\n",
      "\tgoogle_ads_geo_mapping_australia_southeast1\n",
      "\tgoogle_ads_geo_mapping_australia_southeast2\n",
      "\tgoogle_ads_geo_mapping_eu\n",
      "\tgoogle_ads_geo_mapping_europe_central2\n",
      "\tgoogle_ads_geo_mapping_europe_north1\n",
      "\tgoogle_ads_geo_mapping_europe_southwest1\n",
      "\tgoogle_ads_geo_mapping_europe_west1\n",
      "\tgoogle_ads_geo_mapping_europe_west12\n",
      "\tgoogle_ads_geo_mapping_europe_west2\n",
      "\tgoogle_ads_geo_mapping_europe_west3\n",
      "\tgoogle_ads_geo_mapping_europe_west4\n",
      "\tgoogle_ads_geo_mapping_europe_west6\n",
      "\tgoogle_ads_geo_mapping_europe_west8\n",
      "\tgoogle_ads_geo_mapping_europe_west9\n",
      "\tgoogle_ads_geo_mapping_me_central1\n",
      "\tgoogle_ads_geo_mapping_me_central2\n",
      "\tgoogle_ads_geo_mapping_me_west1\n",
      "\tgoogle_ads_geo_mapping_northamerica_northeast1\n",
      "\tgoogle_ads_geo_mapping_northamerica_northeast2\n",
      "\tgoogle_ads_geo_mapping_southamerica_east1\n",
      "\tgoogle_ads_geo_mapping_southamerica_west1\n",
      "\tgoogle_ads_geo_mapping_us\n",
      "\tgoogle_ads_geo_mapping_us_central1\n",
      "\tgoogle_ads_geo_mapping_us_central2\n",
      "\tgoogle_ads_geo_mapping_us_east1\n",
      "\tgoogle_ads_geo_mapping_us_east4\n",
      "\tgoogle_ads_geo_mapping_us_east5\n",
      "\tgoogle_ads_geo_mapping_us_south1\n",
      "\tgoogle_ads_geo_mapping_us_west1\n",
      "\tgoogle_ads_geo_mapping_us_west2\n",
      "\tgoogle_ads_geo_mapping_us_west3\n",
      "\tgoogle_ads_geo_mapping_us_west4\n",
      "\tgoogle_ads_transparency_center\n",
      "\tgoogle_analytics_sample\n",
      "\tgoogle_books_ngrams_2020\n",
      "\tgoogle_cfe\n",
      "\tgoogle_cloud_release_notes\n",
      "\tgoogle_dei\n",
      "\tgoogle_patents_research\n",
      "\tgoogle_political_ads\n",
      "\tgoogle_trends\n",
      "\tgretel_synthetic_text_to_sql\n",
      "\tgrid_ac\n",
      "\thacker_news\n",
      "\thud_zipcode_crosswalk\n",
      "\thuman_genome_variants\n",
      "\thuman_variant_annotation\n",
      "\tidc_current\n",
      "\tidc_current_clinical\n",
      "\tidc_v1\n",
      "\tidc_v10\n",
      "\tidc_v11\n",
      "\tidc_v11_clinical\n",
      "\tidc_v12\n",
      "\tidc_v12_clinical\n",
      "\tidc_v13\n",
      "\tidc_v13_clinical\n",
      "\tidc_v14\n",
      "\tidc_v14_clinical\n",
      "\tidc_v15\n",
      "\tidc_v15_clinical\n",
      "\tidc_v16\n",
      "\tidc_v16_clinical\n",
      "\tidc_v17\n",
      "\tidc_v17_clinical\n",
      "\tidc_v18\n",
      "\tidc_v18_clinical\n",
      "\tidc_v2\n",
      "\tidc_v3\n",
      "\tidc_v4\n",
      "\tidc_v5\n",
      "\tidc_v6\n",
      "\tidc_v7\n",
      "\tidc_v8\n",
      "\tidc_v9\n",
      "\timdb\n",
      "\timmune_epitope_db\n",
      "\tiowa_liquor_sales\n",
      "\tiowa_liquor_sales_forecasting\n",
      "\tirs_990\n",
      "\tlabeled_patents\n",
      "\tlibraries_io\n",
      "\tlistenbrainz\n",
      "\tlondon_bicycles\n",
      "\tlondon_crime\n",
      "\tlondon_fire_brigade\n",
      "\tmarec\n",
      "\tmedicare\n",
      "\tml_datasets\n",
      "\tml_datasets_uscentral1\n",
      "\tmodis_terra_net_primary_production\n",
      "\tmoon_phases\n",
      "\tmultilingual_spoken_words_corpus\n",
      "\tnasa_wildfire\n",
      "\tnational_water_model\n",
      "\tncaa_basketball\n",
      "\tnces_ipeds\n",
      "\tnew_york\n",
      "\tnew_york_311\n",
      "\tnew_york_citibike\n",
      "\tnew_york_mv_collisions\n",
      "\tnew_york_subway\n",
      "\tnew_york_taxi_trips\n",
      "\tnew_york_trees\n",
      "\tnhtsa_traffic_fatalities\n",
      "\tnih_gudid\n",
      "\tnih_sequence_read\n",
      "\tnlm_rxnorm\n",
      "\tnoaa_global_forecast_system\n",
      "\tnoaa_goes16\n",
      "\tnoaa_goes17\n",
      "\tnoaa_gsod\n",
      "\tnoaa_historic_severe_storms\n",
      "\tnoaa_hurricanes\n",
      "\tnoaa_icoads\n",
      "\tnoaa_lightning\n",
      "\tnoaa_nwm\n",
      "\tnoaa_passive_acoustic_index\n",
      "\tnoaa_passive_bioacoustic\n",
      "\tnoaa_pifsc_metadata\n",
      "\tnoaa_preliminary_severe_storms\n",
      "\tnoaa_significant_earthquakes\n",
      "\tnoaa_tsunami\n",
      "\tnppes\n",
      "\tnrel_nsrdb\n",
      "\topen_buildings\n",
      "\topen_images\n",
      "\topen_targets_genetics\n",
      "\topen_targets_platform\n",
      "\topenaq\n",
      "\toverture_maps\n",
      "\tpatents\n",
      "\tpatents_cpc\n",
      "\tpatents_dsep\n",
      "\tpatents_view\n",
      "\tpersistent_udfs\n",
      "\tproperati_properties_ar\n",
      "\tproperati_properties_br\n",
      "\tproperati_properties_cl\n",
      "\tproperati_properties_co\n",
      "\tproperati_properties_mx\n",
      "\tproperati_properties_pe\n",
      "\tproperati_properties_uy\n",
      "\tpypi\n",
      "\tsamples\n",
      "\tsan_francisco\n",
      "\tsan_francisco_311\n",
      "\tsan_francisco_bikeshare\n",
      "\tsan_francisco_film_locations\n",
      "\tsan_francisco_neighborhoods\n",
      "\tsan_francisco_sffd_service_calls\n",
      "\tsan_francisco_sfpd_incidents\n",
      "\tsan_francisco_transit_muni\n",
      "\tsan_francisco_trees\n",
      "\tsdoh_bea_cainc30\n",
      "\tsdoh_cdc_wonder_natality\n",
      "\tsdoh_cms_dual_eligible_enrollment\n",
      "\tsdoh_hrsa_shortage_areas\n",
      "\tsdoh_hud_housing\n",
      "\tsdoh_hud_pit_homelessness\n",
      "\tsdoh_snap_enrollment\n",
      "\tsec_quarterly_financials\n",
      "\tstackoverflow\n",
      "\tsunroof_solar\n",
      "\tthe_general_index\n",
      "\tthe_met\n",
      "\tthelook_ecommerce\n",
      "\tucb_fung_patent_data\n",
      "\tumiami_lincs\n",
      "\tun_sdg\n",
      "\tus_res_real_est_data\n",
      "\tusa_contagious_disease\n",
      "\tusa_names\n",
      "\tusda_nass_agriculture\n",
      "\tusfs_fia\n",
      "\tusitc_investigations\n",
      "\tuspto_oce_assignment\n",
      "\tuspto_oce_cancer\n",
      "\tuspto_oce_claims\n",
      "\tuspto_oce_litigation\n",
      "\tuspto_oce_office_actions\n",
      "\tuspto_oce_pair\n",
      "\tuspto_ptab\n",
      "\tutility_eu\n",
      "\tutility_us\n",
      "\twikipedia\n",
      "\twise_all_sky_data_release\n",
      "\tworld_bank_global_population\n",
      "\tworld_bank_health_population\n",
      "\tworld_bank_intl_debt\n",
      "\tworld_bank_intl_education\n",
      "\tworld_bank_wdi\n",
      "\tworldbank_wdi\n",
      "\tworldpop\n"
     ]
    }
   ],
   "source": [
    "# list datasets in the default project:\n",
    "flag = printDatasetList(client)  #: assigning to `flag` suppresses printing the return value (normally `True`)"
   ]
  },
  {
   "cell_type": "markdown",
   "metadata": {
    "id": "81uawTW5LFZo"
   },
   "source": [
    "This list should correspond to what is shown here https://bigquery.cloud.google.com/publicdatasets under the **bigquery-public-data** item."
   ]
  },
  {
   "cell_type": "markdown",
   "metadata": {
    "id": "bEAfjVxOLFZo"
   },
   "source": [
    "Here is how to create a dataset reference object by assigning a project and a dataset name:"
   ]
  },
  {
   "cell_type": "code",
   "execution_count": 15,
   "metadata": {
    "id": "ZrSaLIkWLFZo"
   },
   "outputs": [],
   "source": [
    "dataset_id = 'samples'\n",
    "dataset_ref = client.dataset(dataset_id)"
   ]
  },
  {
   "cell_type": "markdown",
   "metadata": {
    "id": "5BlLbSA7LFZp"
   },
   "source": [
    "If our current project was something other than `bigquery-public-data`, we could still create this reference by specifying the project that contains the dataset:"
   ]
  },
  {
   "cell_type": "code",
   "execution_count": 16,
   "metadata": {
    "id": "NJK5yM9BLFZq"
   },
   "outputs": [],
   "source": [
    "dataset_id = 'samples'\n",
    "dataset_ref = client.dataset(dataset_id, project = 'bigquery-public-data')"
   ]
  },
  {
   "cell_type": "markdown",
   "metadata": {
    "id": "6_fYqMyGLFZr"
   },
   "source": [
    "How can we get the path of the dataset?"
   ]
  },
  {
   "cell_type": "code",
   "execution_count": 17,
   "metadata": {
    "id": "otqzZohpLFZs"
   },
   "outputs": [
    {
     "data": {
      "text/plain": [
       "'/projects/bigquery-public-data/datasets/samples'"
      ]
     },
     "execution_count": 17,
     "metadata": {},
     "output_type": "execute_result"
    }
   ],
   "source": [
    "#?\n",
    "dataset_ref.path"
   ]
  },
  {
   "cell_type": "markdown",
   "metadata": {
    "id": "dRzK-hTuLFZt"
   },
   "source": [
    "Explore more of this object's members:\n",
    "\n",
    "*(HINT: Jupyter Notebooks does not support code completion, but Spyder and other Python IDEs do. If you copy all the above code to a Python file within the IDE, you can type `dataset_ref.` in a new line, then hit the [Tab] key to see the available members for the object.)*"
   ]
  },
  {
   "cell_type": "code",
   "execution_count": null,
   "metadata": {
    "id": "s9HM7PiMLFZt"
   },
   "outputs": [],
   "source": [
    "#?\n",
    "dataset_ref."
   ]
  },
  {
   "cell_type": "markdown",
   "metadata": {
    "id": "NZB6yeerLFZu"
   },
   "source": [
    "Here is a function for listing the tables in a dataset:"
   ]
  },
  {
   "cell_type": "code",
   "execution_count": 18,
   "metadata": {
    "id": "_E5S-MhtLFZu"
   },
   "outputs": [],
   "source": [
    "# function for listing tables in a dataset:\n",
    "def printTableList(client, dataset_id):\n",
    "    project = client.project\n",
    "    dataset_ref = client.dataset(dataset_id, project = project)\n",
    "    tables = list(client.list_tables(dataset_ref))\n",
    "    if tables:\n",
    "        print('Tables in dataset {}:'.format(dataset_id))\n",
    "        for table in tables:\n",
    "            print('\\t{}'.format(table.table_id))\n",
    "        found = True\n",
    "    else:\n",
    "        print('{} dataset does not contain any tables.'.format(dataset_id))\n",
    "        found = False\n",
    "    return found"
   ]
  },
  {
   "cell_type": "markdown",
   "metadata": {
    "id": "ksp2VbNcLFZv"
   },
   "source": [
    "Use this function to list the tables in the current dataset:"
   ]
  },
  {
   "cell_type": "code",
   "execution_count": 20,
   "metadata": {
    "id": "F2KEisFzLFZv"
   },
   "outputs": [
    {
     "name": "stdout",
     "output_type": "stream",
     "text": [
      "Tables in dataset samples:\n",
      "\tgithub_nested\n",
      "\tgithub_timeline\n",
      "\tgsod\n",
      "\tnatality\n",
      "\tshakespeare\n",
      "\ttrigrams\n",
      "\twikipedia\n"
     ]
    },
    {
     "data": {
      "text/plain": [
       "True"
      ]
     },
     "execution_count": 20,
     "metadata": {},
     "output_type": "execute_result"
    }
   ],
   "source": [
    "#?\n",
    "printTableList(client,dataset_id)"
   ]
  },
  {
   "cell_type": "markdown",
   "metadata": {
    "id": "XoZPwFx1LFZx"
   },
   "source": [
    "To create a reference to a table within the dataset, we use the `table_id` attribute:"
   ]
  },
  {
   "cell_type": "code",
   "execution_count": 21,
   "metadata": {
    "id": "rYXUHik0LFZx"
   },
   "outputs": [],
   "source": [
    "table_id = 'shakespeare'\n",
    "table_ref = dataset_ref.table(table_id)"
   ]
  },
  {
   "cell_type": "markdown",
   "metadata": {
    "id": "3MZOaAuiLFZy"
   },
   "source": [
    "Check the name of the table that `table_ref` now points to:"
   ]
  },
  {
   "cell_type": "code",
   "execution_count": 22,
   "metadata": {
    "id": "6B9AAg4tLFZz"
   },
   "outputs": [
    {
     "data": {
      "text/plain": [
       "'shakespeare'"
      ]
     },
     "execution_count": 22,
     "metadata": {},
     "output_type": "execute_result"
    }
   ],
   "source": [
    "#?\n",
    "table_ref.table_id"
   ]
  },
  {
   "cell_type": "markdown",
   "metadata": {
    "id": "gOo7O5lVLFZ0"
   },
   "source": [
    "To access the data in the table itself, we use the `get_table()` method:"
   ]
  },
  {
   "cell_type": "code",
   "execution_count": 23,
   "metadata": {
    "id": "rjnXTIoULFZ0"
   },
   "outputs": [],
   "source": [
    "table = client.get_table(table_ref)  # API Request"
   ]
  },
  {
   "cell_type": "markdown",
   "metadata": {
    "id": "Ggy5pIrYLFZ2"
   },
   "source": [
    "NOTE: The contents of the table are not actually in our memory after this call! We are working with a Big Data platform, now, and we could easily end up pulling GBs or TBs of data by accident.\n",
    "\n",
    "To minimize data bandwidth, memory consumption, and processing time, Big Data platforms employ ***lazy evaluation***. This means that no computation or data transfer actually takes place until we *realize* (use) the data. Even if we execute subsequent code that performs calculations on the data, no data flow or computation actually occurs until we request output (e.g. by executing a print to stdout or writing to a file)."
   ]
  },
  {
   "cell_type": "markdown",
   "metadata": {
    "id": "5Sa9uV6tLFZ2"
   },
   "source": [
    "What kind of object is returned by `client.get_table`?"
   ]
  },
  {
   "cell_type": "code",
   "execution_count": 24,
   "metadata": {
    "id": "cdmNEp6ZLFZ3"
   },
   "outputs": [
    {
     "data": {
      "text/plain": [
       "google.cloud.bigquery.table.Table"
      ]
     },
     "execution_count": 24,
     "metadata": {},
     "output_type": "execute_result"
    }
   ],
   "source": [
    "#?\n",
    "type(table)"
   ]
  },
  {
   "cell_type": "markdown",
   "metadata": {
    "id": "rcaJMPCNLFZ4"
   },
   "source": [
    "How can we view the design of the table (column names and types? The name of the object attribute we need is the same term we learned in the module on databases:"
   ]
  },
  {
   "cell_type": "code",
   "execution_count": 25,
   "metadata": {
    "id": "gt4FQZ88LFZ4"
   },
   "outputs": [
    {
     "data": {
      "text/plain": [
       "[SchemaField('word', 'STRING', 'REQUIRED', None, 'A single unique word (where whitespace is the delimiter) extracted from a corpus.', (), None),\n",
       " SchemaField('word_count', 'INTEGER', 'REQUIRED', None, 'The number of times this word appears in this corpus.', (), None),\n",
       " SchemaField('corpus', 'STRING', 'REQUIRED', None, 'The work from which this word was extracted.', (), None),\n",
       " SchemaField('corpus_date', 'INTEGER', 'REQUIRED', None, 'The year in which this corpus was published.', (), None)]"
      ]
     },
     "execution_count": 25,
     "metadata": {},
     "output_type": "execute_result"
    }
   ],
   "source": [
    "#?\n",
    "table.schema"
   ]
  },
  {
   "cell_type": "markdown",
   "metadata": {
    "id": "FfaKrQRSLFZ6"
   },
   "source": [
    "Again, this is messy. If we wanted to refer to the column names and types in code, we might use something like this (which we could then parse into a dict):"
   ]
  },
  {
   "cell_type": "code",
   "execution_count": 26,
   "metadata": {
    "id": "8187Fu57LFZ6"
   },
   "outputs": [
    {
     "name": "stdout",
     "output_type": "stream",
     "text": [
      "['word STRING', 'word_count INTEGER', 'corpus STRING', 'corpus_date INTEGER']\n"
     ]
    }
   ],
   "source": [
    "result = [\"{0} {1}\".format(schema.name,schema.field_type) for schema in table.schema]\n",
    "print(result)"
   ]
  },
  {
   "cell_type": "markdown",
   "metadata": {
    "id": "ZQz7xhfwLFZ7"
   },
   "source": [
    "But if we just want to print them, here is another neat function for that:"
   ]
  },
  {
   "cell_type": "code",
   "execution_count": 27,
   "metadata": {
    "id": "_LqvAXo3LFZ7"
   },
   "outputs": [],
   "source": [
    "# function to print a table schema:\n",
    "def printTableSchema(aTable):\n",
    "    schemas = list(aTable.schema)\n",
    "    if schemas:\n",
    "        print('Table schema for {}:'.format(aTable.table_id))\n",
    "        for aSchema in schemas:\n",
    "            print('\\t{0} {1}'.format(aSchema.name, aSchema.field_type))\n",
    "        found = True\n",
    "    else:\n",
    "        found = False\n",
    "    return found"
   ]
  },
  {
   "cell_type": "markdown",
   "metadata": {
    "id": "SROTDIm8LFZ8"
   },
   "source": [
    "Use this function to print the table schema:"
   ]
  },
  {
   "cell_type": "code",
   "execution_count": 28,
   "metadata": {
    "id": "DpmWRmXmLFZ9"
   },
   "outputs": [
    {
     "name": "stdout",
     "output_type": "stream",
     "text": [
      "Table schema for shakespeare:\n",
      "\tword STRING\n",
      "\tword_count INTEGER\n",
      "\tcorpus STRING\n",
      "\tcorpus_date INTEGER\n"
     ]
    },
    {
     "data": {
      "text/plain": [
       "True"
      ]
     },
     "execution_count": 28,
     "metadata": {},
     "output_type": "execute_result"
    }
   ],
   "source": [
    "#?\n",
    "printTableSchema(table)"
   ]
  },
  {
   "cell_type": "code",
   "execution_count": 34,
   "metadata": {},
   "outputs": [
    {
     "name": "stdout",
     "output_type": "stream",
     "text": [
      "modular-crawler-429319-g6\n"
     ]
    }
   ],
   "source": [
    "client1 = bigquery.Client.from_service_account_json(key_path, project = 'modular-crawler-429319-g6')\n",
    "print(client1.project)"
   ]
  },
  {
   "cell_type": "markdown",
   "metadata": {
    "id": "Q1YugUUhLFZ-"
   },
   "source": [
    "Now that we know what the columns are, we can write queries. Actually, we construct a query job by assigning an SQL statement to a method of the `client` object:"
   ]
  },
  {
   "cell_type": "code",
   "execution_count": 35,
   "metadata": {
    "id": "Gq7cGALfLFZ-"
   },
   "outputs": [
    {
     "ename": "Forbidden",
     "evalue": "403 POST https://bigquery.googleapis.com/bigquery/v2/projects/modular-crawler-429319-g6/jobs?prettyPrint=false: Access Denied: Project modular-crawler-429319-g6: User does not have bigquery.jobs.create permission in project modular-crawler-429319-g6.\n\nLocation: None\nJob ID: 5d0f26f7-8b4c-41df-9c85-945f63192073\n",
     "output_type": "error",
     "traceback": [
      "\u001b[1;31m---------------------------------------------------------------------------\u001b[0m",
      "\u001b[1;31mForbidden\u001b[0m                                 Traceback (most recent call last)",
      "Cell \u001b[1;32mIn[35], line 2\u001b[0m\n\u001b[0;32m      1\u001b[0m sql \u001b[38;5;241m=\u001b[39m \u001b[38;5;124m\"\u001b[39m\u001b[38;5;124mSELECT COUNT(1) FROM bigquery-public-data.samples.shakespeare\u001b[39m\u001b[38;5;124m\"\u001b[39m\n\u001b[1;32m----> 2\u001b[0m query_job \u001b[38;5;241m=\u001b[39m client1\u001b[38;5;241m.\u001b[39mquery(sql)\n",
      "File \u001b[1;32m~\\anaconda3\\Lib\\site-packages\\google\\cloud\\bigquery\\client.py:3492\u001b[0m, in \u001b[0;36mClient.query\u001b[1;34m(self, query, job_config, job_id, job_id_prefix, location, project, retry, timeout, job_retry, api_method)\u001b[0m\n\u001b[0;32m   3481\u001b[0m     \u001b[38;5;28;01mreturn\u001b[39;00m _job_helpers\u001b[38;5;241m.\u001b[39mquery_jobs_query(\n\u001b[0;32m   3482\u001b[0m         \u001b[38;5;28mself\u001b[39m,\n\u001b[0;32m   3483\u001b[0m         query,\n\u001b[1;32m   (...)\u001b[0m\n\u001b[0;32m   3489\u001b[0m         job_retry,\n\u001b[0;32m   3490\u001b[0m     )\n\u001b[0;32m   3491\u001b[0m \u001b[38;5;28;01melif\u001b[39;00m api_method \u001b[38;5;241m==\u001b[39m enums\u001b[38;5;241m.\u001b[39mQueryApiMethod\u001b[38;5;241m.\u001b[39mINSERT:\n\u001b[1;32m-> 3492\u001b[0m     \u001b[38;5;28;01mreturn\u001b[39;00m _job_helpers\u001b[38;5;241m.\u001b[39mquery_jobs_insert(\n\u001b[0;32m   3493\u001b[0m         \u001b[38;5;28mself\u001b[39m,\n\u001b[0;32m   3494\u001b[0m         query,\n\u001b[0;32m   3495\u001b[0m         job_config,\n\u001b[0;32m   3496\u001b[0m         job_id,\n\u001b[0;32m   3497\u001b[0m         job_id_prefix,\n\u001b[0;32m   3498\u001b[0m         location,\n\u001b[0;32m   3499\u001b[0m         project,\n\u001b[0;32m   3500\u001b[0m         retry,\n\u001b[0;32m   3501\u001b[0m         timeout,\n\u001b[0;32m   3502\u001b[0m         job_retry,\n\u001b[0;32m   3503\u001b[0m     )\n\u001b[0;32m   3504\u001b[0m \u001b[38;5;28;01melse\u001b[39;00m:\n\u001b[0;32m   3505\u001b[0m     \u001b[38;5;28;01mraise\u001b[39;00m \u001b[38;5;167;01mValueError\u001b[39;00m(\u001b[38;5;124mf\u001b[39m\u001b[38;5;124m\"\u001b[39m\u001b[38;5;124mGot unexpected value for api_method: \u001b[39m\u001b[38;5;132;01m{\u001b[39;00m\u001b[38;5;28mrepr\u001b[39m(api_method)\u001b[38;5;132;01m}\u001b[39;00m\u001b[38;5;124m\"\u001b[39m)\n",
      "File \u001b[1;32m~\\anaconda3\\Lib\\site-packages\\google\\cloud\\bigquery\\_job_helpers.py:159\u001b[0m, in \u001b[0;36mquery_jobs_insert\u001b[1;34m(client, query, job_config, job_id, job_id_prefix, location, project, retry, timeout, job_retry)\u001b[0m\n\u001b[0;32m    156\u001b[0m     \u001b[38;5;28;01melse\u001b[39;00m:\n\u001b[0;32m    157\u001b[0m         \u001b[38;5;28;01mreturn\u001b[39;00m query_job\n\u001b[1;32m--> 159\u001b[0m future \u001b[38;5;241m=\u001b[39m do_query()\n\u001b[0;32m    160\u001b[0m \u001b[38;5;66;03m# The future might be in a failed state now, but if it's\u001b[39;00m\n\u001b[0;32m    161\u001b[0m \u001b[38;5;66;03m# unrecoverable, we'll find out when we ask for it's result, at which\u001b[39;00m\n\u001b[0;32m    162\u001b[0m \u001b[38;5;66;03m# point, we may retry.\u001b[39;00m\n\u001b[0;32m    163\u001b[0m \u001b[38;5;28;01mif\u001b[39;00m \u001b[38;5;129;01mnot\u001b[39;00m job_id_given:\n",
      "File \u001b[1;32m~\\anaconda3\\Lib\\site-packages\\google\\cloud\\bigquery\\_job_helpers.py:136\u001b[0m, in \u001b[0;36mquery_jobs_insert.<locals>.do_query\u001b[1;34m()\u001b[0m\n\u001b[0;32m    133\u001b[0m query_job \u001b[38;5;241m=\u001b[39m job\u001b[38;5;241m.\u001b[39mQueryJob(job_ref, query, client\u001b[38;5;241m=\u001b[39mclient, job_config\u001b[38;5;241m=\u001b[39mjob_config)\n\u001b[0;32m    135\u001b[0m \u001b[38;5;28;01mtry\u001b[39;00m:\n\u001b[1;32m--> 136\u001b[0m     query_job\u001b[38;5;241m.\u001b[39m_begin(retry\u001b[38;5;241m=\u001b[39mretry, timeout\u001b[38;5;241m=\u001b[39mtimeout)\n\u001b[0;32m    137\u001b[0m \u001b[38;5;28;01mexcept\u001b[39;00m core_exceptions\u001b[38;5;241m.\u001b[39mConflict \u001b[38;5;28;01mas\u001b[39;00m create_exc:\n\u001b[0;32m    138\u001b[0m     \u001b[38;5;66;03m# The thought is if someone is providing their own job IDs and they get\u001b[39;00m\n\u001b[0;32m    139\u001b[0m     \u001b[38;5;66;03m# their job ID generation wrong, this could end up returning results for\u001b[39;00m\n\u001b[0;32m    140\u001b[0m     \u001b[38;5;66;03m# the wrong query. We thus only try to recover if job ID was not given.\u001b[39;00m\n\u001b[0;32m    141\u001b[0m     \u001b[38;5;28;01mif\u001b[39;00m job_id_given:\n",
      "File \u001b[1;32m~\\anaconda3\\Lib\\site-packages\\google\\cloud\\bigquery\\job\\query.py:1378\u001b[0m, in \u001b[0;36mQueryJob._begin\u001b[1;34m(self, client, retry, timeout)\u001b[0m\n\u001b[0;32m   1358\u001b[0m \u001b[38;5;250m\u001b[39m\u001b[38;5;124;03m\"\"\"API call:  begin the job via a POST request\u001b[39;00m\n\u001b[0;32m   1359\u001b[0m \n\u001b[0;32m   1360\u001b[0m \u001b[38;5;124;03mSee\u001b[39;00m\n\u001b[1;32m   (...)\u001b[0m\n\u001b[0;32m   1374\u001b[0m \u001b[38;5;124;03m    ValueError: If the job has already begun.\u001b[39;00m\n\u001b[0;32m   1375\u001b[0m \u001b[38;5;124;03m\"\"\"\u001b[39;00m\n\u001b[0;32m   1377\u001b[0m \u001b[38;5;28;01mtry\u001b[39;00m:\n\u001b[1;32m-> 1378\u001b[0m     \u001b[38;5;28msuper\u001b[39m(QueryJob, \u001b[38;5;28mself\u001b[39m)\u001b[38;5;241m.\u001b[39m_begin(client\u001b[38;5;241m=\u001b[39mclient, retry\u001b[38;5;241m=\u001b[39mretry, timeout\u001b[38;5;241m=\u001b[39mtimeout)\n\u001b[0;32m   1379\u001b[0m \u001b[38;5;28;01mexcept\u001b[39;00m exceptions\u001b[38;5;241m.\u001b[39mGoogleAPICallError \u001b[38;5;28;01mas\u001b[39;00m exc:\n\u001b[0;32m   1380\u001b[0m     exc\u001b[38;5;241m.\u001b[39mmessage \u001b[38;5;241m=\u001b[39m _EXCEPTION_FOOTER_TEMPLATE\u001b[38;5;241m.\u001b[39mformat(\n\u001b[0;32m   1381\u001b[0m         message\u001b[38;5;241m=\u001b[39mexc\u001b[38;5;241m.\u001b[39mmessage, location\u001b[38;5;241m=\u001b[39m\u001b[38;5;28mself\u001b[39m\u001b[38;5;241m.\u001b[39mlocation, job_id\u001b[38;5;241m=\u001b[39m\u001b[38;5;28mself\u001b[39m\u001b[38;5;241m.\u001b[39mjob_id\n\u001b[0;32m   1382\u001b[0m     )\n",
      "File \u001b[1;32m~\\anaconda3\\Lib\\site-packages\\google\\cloud\\bigquery\\job\\base.py:743\u001b[0m, in \u001b[0;36m_AsyncJob._begin\u001b[1;34m(self, client, retry, timeout)\u001b[0m\n\u001b[0;32m    740\u001b[0m \u001b[38;5;66;03m# jobs.insert is idempotent because we ensure that every new\u001b[39;00m\n\u001b[0;32m    741\u001b[0m \u001b[38;5;66;03m# job has an ID.\u001b[39;00m\n\u001b[0;32m    742\u001b[0m span_attributes \u001b[38;5;241m=\u001b[39m {\u001b[38;5;124m\"\u001b[39m\u001b[38;5;124mpath\u001b[39m\u001b[38;5;124m\"\u001b[39m: path}\n\u001b[1;32m--> 743\u001b[0m api_response \u001b[38;5;241m=\u001b[39m client\u001b[38;5;241m.\u001b[39m_call_api(\n\u001b[0;32m    744\u001b[0m     retry,\n\u001b[0;32m    745\u001b[0m     span_name\u001b[38;5;241m=\u001b[39m\u001b[38;5;124m\"\u001b[39m\u001b[38;5;124mBigQuery.job.begin\u001b[39m\u001b[38;5;124m\"\u001b[39m,\n\u001b[0;32m    746\u001b[0m     span_attributes\u001b[38;5;241m=\u001b[39mspan_attributes,\n\u001b[0;32m    747\u001b[0m     job_ref\u001b[38;5;241m=\u001b[39m\u001b[38;5;28mself\u001b[39m,\n\u001b[0;32m    748\u001b[0m     method\u001b[38;5;241m=\u001b[39m\u001b[38;5;124m\"\u001b[39m\u001b[38;5;124mPOST\u001b[39m\u001b[38;5;124m\"\u001b[39m,\n\u001b[0;32m    749\u001b[0m     path\u001b[38;5;241m=\u001b[39mpath,\n\u001b[0;32m    750\u001b[0m     data\u001b[38;5;241m=\u001b[39m\u001b[38;5;28mself\u001b[39m\u001b[38;5;241m.\u001b[39mto_api_repr(),\n\u001b[0;32m    751\u001b[0m     timeout\u001b[38;5;241m=\u001b[39mtimeout,\n\u001b[0;32m    752\u001b[0m )\n\u001b[0;32m    753\u001b[0m \u001b[38;5;28mself\u001b[39m\u001b[38;5;241m.\u001b[39m_set_properties(api_response)\n",
      "File \u001b[1;32m~\\anaconda3\\Lib\\site-packages\\google\\cloud\\bigquery\\client.py:833\u001b[0m, in \u001b[0;36mClient._call_api\u001b[1;34m(self, retry, span_name, span_attributes, job_ref, headers, **kwargs)\u001b[0m\n\u001b[0;32m    829\u001b[0m \u001b[38;5;28;01mif\u001b[39;00m span_name \u001b[38;5;129;01mis\u001b[39;00m \u001b[38;5;129;01mnot\u001b[39;00m \u001b[38;5;28;01mNone\u001b[39;00m:\n\u001b[0;32m    830\u001b[0m     \u001b[38;5;28;01mwith\u001b[39;00m create_span(\n\u001b[0;32m    831\u001b[0m         name\u001b[38;5;241m=\u001b[39mspan_name, attributes\u001b[38;5;241m=\u001b[39mspan_attributes, client\u001b[38;5;241m=\u001b[39m\u001b[38;5;28mself\u001b[39m, job_ref\u001b[38;5;241m=\u001b[39mjob_ref\n\u001b[0;32m    832\u001b[0m     ):\n\u001b[1;32m--> 833\u001b[0m         \u001b[38;5;28;01mreturn\u001b[39;00m call()\n\u001b[0;32m    835\u001b[0m \u001b[38;5;28;01mreturn\u001b[39;00m call()\n",
      "File \u001b[1;32m~\\anaconda3\\Lib\\site-packages\\google\\api_core\\retry\\retry_unary.py:293\u001b[0m, in \u001b[0;36mRetry.__call__.<locals>.retry_wrapped_func\u001b[1;34m(*args, **kwargs)\u001b[0m\n\u001b[0;32m    289\u001b[0m target \u001b[38;5;241m=\u001b[39m functools\u001b[38;5;241m.\u001b[39mpartial(func, \u001b[38;5;241m*\u001b[39margs, \u001b[38;5;241m*\u001b[39m\u001b[38;5;241m*\u001b[39mkwargs)\n\u001b[0;32m    290\u001b[0m sleep_generator \u001b[38;5;241m=\u001b[39m exponential_sleep_generator(\n\u001b[0;32m    291\u001b[0m     \u001b[38;5;28mself\u001b[39m\u001b[38;5;241m.\u001b[39m_initial, \u001b[38;5;28mself\u001b[39m\u001b[38;5;241m.\u001b[39m_maximum, multiplier\u001b[38;5;241m=\u001b[39m\u001b[38;5;28mself\u001b[39m\u001b[38;5;241m.\u001b[39m_multiplier\n\u001b[0;32m    292\u001b[0m )\n\u001b[1;32m--> 293\u001b[0m \u001b[38;5;28;01mreturn\u001b[39;00m retry_target(\n\u001b[0;32m    294\u001b[0m     target,\n\u001b[0;32m    295\u001b[0m     \u001b[38;5;28mself\u001b[39m\u001b[38;5;241m.\u001b[39m_predicate,\n\u001b[0;32m    296\u001b[0m     sleep_generator,\n\u001b[0;32m    297\u001b[0m     timeout\u001b[38;5;241m=\u001b[39m\u001b[38;5;28mself\u001b[39m\u001b[38;5;241m.\u001b[39m_timeout,\n\u001b[0;32m    298\u001b[0m     on_error\u001b[38;5;241m=\u001b[39mon_error,\n\u001b[0;32m    299\u001b[0m )\n",
      "File \u001b[1;32m~\\anaconda3\\Lib\\site-packages\\google\\api_core\\retry\\retry_unary.py:153\u001b[0m, in \u001b[0;36mretry_target\u001b[1;34m(target, predicate, sleep_generator, timeout, on_error, exception_factory, **kwargs)\u001b[0m\n\u001b[0;32m    149\u001b[0m \u001b[38;5;66;03m# pylint: disable=broad-except\u001b[39;00m\n\u001b[0;32m    150\u001b[0m \u001b[38;5;66;03m# This function explicitly must deal with broad exceptions.\u001b[39;00m\n\u001b[0;32m    151\u001b[0m \u001b[38;5;28;01mexcept\u001b[39;00m \u001b[38;5;167;01mException\u001b[39;00m \u001b[38;5;28;01mas\u001b[39;00m exc:\n\u001b[0;32m    152\u001b[0m     \u001b[38;5;66;03m# defer to shared logic for handling errors\u001b[39;00m\n\u001b[1;32m--> 153\u001b[0m     _retry_error_helper(\n\u001b[0;32m    154\u001b[0m         exc,\n\u001b[0;32m    155\u001b[0m         deadline,\n\u001b[0;32m    156\u001b[0m         sleep,\n\u001b[0;32m    157\u001b[0m         error_list,\n\u001b[0;32m    158\u001b[0m         predicate,\n\u001b[0;32m    159\u001b[0m         on_error,\n\u001b[0;32m    160\u001b[0m         exception_factory,\n\u001b[0;32m    161\u001b[0m         timeout,\n\u001b[0;32m    162\u001b[0m     )\n\u001b[0;32m    163\u001b[0m     \u001b[38;5;66;03m# if exception not raised, sleep before next attempt\u001b[39;00m\n\u001b[0;32m    164\u001b[0m     time\u001b[38;5;241m.\u001b[39msleep(sleep)\n",
      "File \u001b[1;32m~\\anaconda3\\Lib\\site-packages\\google\\api_core\\retry\\retry_base.py:212\u001b[0m, in \u001b[0;36m_retry_error_helper\u001b[1;34m(exc, deadline, next_sleep, error_list, predicate_fn, on_error_fn, exc_factory_fn, original_timeout)\u001b[0m\n\u001b[0;32m    206\u001b[0m \u001b[38;5;28;01mif\u001b[39;00m \u001b[38;5;129;01mnot\u001b[39;00m predicate_fn(exc):\n\u001b[0;32m    207\u001b[0m     final_exc, source_exc \u001b[38;5;241m=\u001b[39m exc_factory_fn(\n\u001b[0;32m    208\u001b[0m         error_list,\n\u001b[0;32m    209\u001b[0m         RetryFailureReason\u001b[38;5;241m.\u001b[39mNON_RETRYABLE_ERROR,\n\u001b[0;32m    210\u001b[0m         original_timeout,\n\u001b[0;32m    211\u001b[0m     )\n\u001b[1;32m--> 212\u001b[0m     \u001b[38;5;28;01mraise\u001b[39;00m final_exc \u001b[38;5;28;01mfrom\u001b[39;00m \u001b[38;5;21;01msource_exc\u001b[39;00m\n\u001b[0;32m    213\u001b[0m \u001b[38;5;28;01mif\u001b[39;00m on_error_fn \u001b[38;5;129;01mis\u001b[39;00m \u001b[38;5;129;01mnot\u001b[39;00m \u001b[38;5;28;01mNone\u001b[39;00m:\n\u001b[0;32m    214\u001b[0m     on_error_fn(exc)\n",
      "File \u001b[1;32m~\\anaconda3\\Lib\\site-packages\\google\\api_core\\retry\\retry_unary.py:144\u001b[0m, in \u001b[0;36mretry_target\u001b[1;34m(target, predicate, sleep_generator, timeout, on_error, exception_factory, **kwargs)\u001b[0m\n\u001b[0;32m    142\u001b[0m \u001b[38;5;28;01mfor\u001b[39;00m sleep \u001b[38;5;129;01min\u001b[39;00m sleep_generator:\n\u001b[0;32m    143\u001b[0m     \u001b[38;5;28;01mtry\u001b[39;00m:\n\u001b[1;32m--> 144\u001b[0m         result \u001b[38;5;241m=\u001b[39m target()\n\u001b[0;32m    145\u001b[0m         \u001b[38;5;28;01mif\u001b[39;00m inspect\u001b[38;5;241m.\u001b[39misawaitable(result):\n\u001b[0;32m    146\u001b[0m             warnings\u001b[38;5;241m.\u001b[39mwarn(_ASYNC_RETRY_WARNING)\n",
      "File \u001b[1;32m~\\anaconda3\\Lib\\site-packages\\google\\cloud\\_http\\__init__.py:494\u001b[0m, in \u001b[0;36mJSONConnection.api_request\u001b[1;34m(self, method, path, query_params, data, content_type, headers, api_base_url, api_version, expect_json, _target_object, timeout, extra_api_info)\u001b[0m\n\u001b[0;32m    482\u001b[0m response \u001b[38;5;241m=\u001b[39m \u001b[38;5;28mself\u001b[39m\u001b[38;5;241m.\u001b[39m_make_request(\n\u001b[0;32m    483\u001b[0m     method\u001b[38;5;241m=\u001b[39mmethod,\n\u001b[0;32m    484\u001b[0m     url\u001b[38;5;241m=\u001b[39murl,\n\u001b[1;32m   (...)\u001b[0m\n\u001b[0;32m    490\u001b[0m     extra_api_info\u001b[38;5;241m=\u001b[39mextra_api_info,\n\u001b[0;32m    491\u001b[0m )\n\u001b[0;32m    493\u001b[0m \u001b[38;5;28;01mif\u001b[39;00m \u001b[38;5;129;01mnot\u001b[39;00m \u001b[38;5;241m200\u001b[39m \u001b[38;5;241m<\u001b[39m\u001b[38;5;241m=\u001b[39m response\u001b[38;5;241m.\u001b[39mstatus_code \u001b[38;5;241m<\u001b[39m \u001b[38;5;241m300\u001b[39m:\n\u001b[1;32m--> 494\u001b[0m     \u001b[38;5;28;01mraise\u001b[39;00m exceptions\u001b[38;5;241m.\u001b[39mfrom_http_response(response)\n\u001b[0;32m    496\u001b[0m \u001b[38;5;28;01mif\u001b[39;00m expect_json \u001b[38;5;129;01mand\u001b[39;00m response\u001b[38;5;241m.\u001b[39mcontent:\n\u001b[0;32m    497\u001b[0m     \u001b[38;5;28;01mreturn\u001b[39;00m response\u001b[38;5;241m.\u001b[39mjson()\n",
      "\u001b[1;31mForbidden\u001b[0m: 403 POST https://bigquery.googleapis.com/bigquery/v2/projects/modular-crawler-429319-g6/jobs?prettyPrint=false: Access Denied: Project modular-crawler-429319-g6: User does not have bigquery.jobs.create permission in project modular-crawler-429319-g6.\n\nLocation: None\nJob ID: 5d0f26f7-8b4c-41df-9c85-945f63192073\n"
     ]
    }
   ],
   "source": [
    "sql = \"SELECT COUNT(1) FROM bigquery-public-data.samples.shakespeare\"\n",
    "query_job = client1.query(sql)"
   ]
  },
  {
   "cell_type": "markdown",
   "metadata": {
    "id": "DJVssU3mLFZ_"
   },
   "source": [
    "Why does this throw an error?"
   ]
  },
  {
   "cell_type": "markdown",
   "metadata": {
    "id": "4feq3JaqLFZ_"
   },
   "source": [
    "ANSWER:\n",
    "\n",
    "_____________________________________________________\n",
    "\n",
    "So, what can we do?"
   ]
  },
  {
   "cell_type": "code",
   "execution_count": null,
   "metadata": {
    "id": "hCVH3AxrLFaA"
   },
   "outputs": [],
   "source": [
    "#?\n"
   ]
  },
  {
   "cell_type": "markdown",
   "metadata": {
    "id": "TTfuF8J0LFaA"
   },
   "source": [
    "If that worked, show what query_job is:"
   ]
  },
  {
   "cell_type": "code",
   "execution_count": null,
   "metadata": {
    "id": "ZmiGhS0ALFaA"
   },
   "outputs": [],
   "source": [
    "#?\n"
   ]
  },
  {
   "cell_type": "markdown",
   "metadata": {
    "id": "Src6_5auLFaB"
   },
   "source": [
    "Once again, due to lazy execution, no actual execution occurs until we request output:"
   ]
  },
  {
   "cell_type": "code",
   "execution_count": null,
   "metadata": {
    "id": "FCz4Yw9jLFaB"
   },
   "outputs": [],
   "source": [
    "for row in query_job:  # API request - fetches results\n",
    "    print(row)"
   ]
  },
  {
   "cell_type": "markdown",
   "metadata": {
    "id": "CQG3a1oALFaC"
   },
   "source": [
    "And, again, we need to manipulate this to make it neat. Each member of the rowset is a list and we only want to extract the value, which is in the first member:"
   ]
  },
  {
   "cell_type": "code",
   "execution_count": null,
   "metadata": {
    "id": "Qcq2F5vzLFaC"
   },
   "outputs": [],
   "source": [
    "print(row[0])"
   ]
  },
  {
   "cell_type": "markdown",
   "metadata": {
    "id": "cPqWb1_YLFaD"
   },
   "source": [
    "So, we now know that this table has 164,656 rows. (We would not want to print it!)"
   ]
  },
  {
   "cell_type": "markdown",
   "metadata": {
    "id": "6idZY0-3LFaD"
   },
   "source": [
    "A better coding practice is to write SQL statements that assign names (aliases) to derived values, so we don't forget what the resulting rowset contains. Rewrite the above SQL statement so that the value returned is aliased a \"num_rows\", and assign the QueryJob as above:"
   ]
  },
  {
   "cell_type": "code",
   "execution_count": null,
   "metadata": {
    "id": "NeHVJAm5LFaD"
   },
   "outputs": [],
   "source": [
    "#?\n"
   ]
  },
  {
   "cell_type": "markdown",
   "metadata": {
    "id": "XUFlZ66lLFaE"
   },
   "source": [
    "Now we could use Python's `assert` statement to build a test into the first code block that operates on the rowset:"
   ]
  },
  {
   "cell_type": "code",
   "execution_count": null,
   "metadata": {
    "id": "6MHaNZh0LFaE"
   },
   "outputs": [],
   "source": [
    "for row in query_job:  # API request - fetches results\n",
    "    # Row values can be accessed by field name or index:\n",
    "    assert row[0] == row.num_rows == row['num_rows']  #: for debugging bad sql\n",
    "    print(row.num_rows)"
   ]
  },
  {
   "cell_type": "markdown",
   "metadata": {
    "id": "fP4GpU02LFaF"
   },
   "source": [
    "The above code checks that the name attribute of the value in `row[0]` is what we expected (i.e. \"num_rows\"). Also, it shows that we can refer to a field in a row by its object member `num_rows` or by using the same notation we use for Python dictionaries, `['num_rows']`."
   ]
  },
  {
   "cell_type": "markdown",
   "metadata": {
    "id": "y83gunLZLFaF"
   },
   "source": [
    "Write, execute, and print the results of a query that fetches 10 rows from the table, each containing the \"word\", \"word_count\", and \"corpus\" fields:"
   ]
  },
  {
   "cell_type": "code",
   "execution_count": null,
   "metadata": {
    "id": "xhvBwHzpLFaG"
   },
   "outputs": [],
   "source": [
    "#?\n",
    "\n"
   ]
  },
  {
   "cell_type": "markdown",
   "metadata": {
    "id": "OlGpm9dmLFaH"
   },
   "source": [
    "(NOTE: Using `assert` religiously is good practice and will make debugging easier, but is probably overkill for non-production code.)"
   ]
  },
  {
   "cell_type": "markdown",
   "metadata": {
    "id": "md6tWVvHLFaH"
   },
   "source": [
    "Whenever you catch yourself writing a swag of code to do something that seems rudimentary or low-level, there is a very good chance that you don't need to. A much easier way to handle the above requirement is to use the `to_dataframe` method of the QueryJob object:"
   ]
  },
  {
   "cell_type": "code",
   "execution_count": null,
   "metadata": {
    "id": "19bjagBHLFaH"
   },
   "outputs": [],
   "source": [
    "df = query_job.to_dataframe()\n",
    "print(df)"
   ]
  },
  {
   "cell_type": "markdown",
   "metadata": {
    "id": "Qc7vdIfALFaJ"
   },
   "source": [
    "Although the above doesn't use `assert` (which you might still want to include in some test code), you will be able to tell at a glance if something is wrong with the contents of the DataFrame."
   ]
  },
  {
   "cell_type": "markdown",
   "metadata": {
    "id": "DsWSuO95LFaJ"
   },
   "source": [
    "#### Final Notes"
   ]
  },
  {
   "cell_type": "markdown",
   "metadata": {
    "id": "4mKynMuNLFaJ"
   },
   "source": [
    "1. Here is a readable way to code long SQL statements:"
   ]
  },
  {
   "cell_type": "code",
   "execution_count": null,
   "metadata": {
    "id": "8nm7i1-rLFaJ"
   },
   "outputs": [],
   "source": [
    "sql = \"\"\"\n",
    "    SELECT word, word_count, corpus\n",
    "    FROM bigquery-public-data.samples.shakespeare\n",
    "    LIMIT 10\n",
    "    \"\"\""
   ]
  },
  {
   "cell_type": "markdown",
   "metadata": {
    "id": "1j2w1aovLFaK"
   },
   "source": [
    "2. If you had an application that needed to modify the tables or datasets in the `bigquery-public-data` is project, you could copy them to our own project, where you would have the permissions to do as you please with the data (subject to Google's terms of use)."
   ]
  },
  {
   "cell_type": "markdown",
   "metadata": {
    "id": "mOAZyGTcLFaL"
   },
   "source": [
    "3. We aren't limited to the datasets that are already in BigQuery. We can upload tables from our computer, and we can pull data in from other online sources. We will cover these tasks in another module."
   ]
  },
  {
   "cell_type": "markdown",
   "metadata": {
    "id": "PJmK2n7vLFaL"
   },
   "source": [
    "#### Next Steps\n",
    "\n",
    "If you wish to pick up a few more skills you can go to https://cloud.google.com/bigquery/create-simple-app-api. (Note that we have already been through the preliminaries, so you can start at \"Download the sample code\".)\n",
    "\n",
    "Alternatively, you can take a deeper dive into the API here: https://googlecloudplatform.github.io/google-cloud-python/latest/bigquery/usage.html."
   ]
  },
  {
   "cell_type": "markdown",
   "metadata": {
    "id": "OFNsekmxLFaM"
   },
   "source": [
    "## - END -"
   ]
  },
  {
   "cell_type": "markdown",
   "metadata": {
    "id": "KBAJLLeXLHs8"
   },
   "source": [
    ">\n",
    ">\n"
   ]
  },
  {
   "cell_type": "markdown",
   "metadata": {
    "id": "V1AVU7q-LIuO"
   },
   "source": [
    ">\n",
    ">\n"
   ]
  },
  {
   "cell_type": "markdown",
   "metadata": {
    "id": "Fpehj_5ELJk9"
   },
   "source": [
    "\n",
    "\n",
    "---\n",
    "\n",
    "\n",
    "\n",
    "---\n",
    "\n",
    "\n",
    "\n",
    "> > > > > > > > > © 2024 Institute of Data\n",
    "\n",
    "\n",
    "---\n",
    "\n",
    "\n",
    "\n",
    "---\n",
    "\n",
    "\n",
    "\n"
   ]
  }
 ],
 "metadata": {
  "colab": {
   "collapsed_sections": [
    "PJmK2n7vLFaL"
   ],
   "provenance": []
  },
  "kernelspec": {
   "display_name": "Python 3 (ipykernel)",
   "language": "python",
   "name": "python3"
  },
  "language_info": {
   "codemirror_mode": {
    "name": "ipython",
    "version": 3
   },
   "file_extension": ".py",
   "mimetype": "text/x-python",
   "name": "python",
   "nbconvert_exporter": "python",
   "pygments_lexer": "ipython3",
   "version": "3.11.7"
  }
 },
 "nbformat": 4,
 "nbformat_minor": 1
}
